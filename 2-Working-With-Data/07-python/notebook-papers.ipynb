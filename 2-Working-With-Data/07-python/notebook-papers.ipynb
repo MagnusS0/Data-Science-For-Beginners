{
 "cells": [
  {
   "cell_type": "markdown",
   "metadata": {},
   "source": [
    "# Analyzing COVID-19 Papers\n",
    "\n",
    "In this challenge, we will continue with the topic of COVID pandemic, and focus on processing scientific papers on the subject. There is [CORD-19 Dataset](https://www.kaggle.com/allen-institute-for-ai/CORD-19-research-challenge) with more than 7000 (at the time of writing) papers on COVID, available with metadata and abstracts (and for about half of them there is also full text provided).\n",
    "\n",
    "A full example of analyzing this dataset using [Text Analytics for Health](https://docs.microsoft.com/azure/cognitive-services/text-analytics/how-tos/text-analytics-for-health/?WT.mc_id=academic-77958-bethanycheum) cognitive service is described [in this blog post](https://soshnikov.com/science/analyzing-medical-papers-with-azure-and-text-analytics-for-health/). We will discuss simplified version of this analysis."
   ]
  },
  {
   "cell_type": "code",
   "execution_count": 1,
   "metadata": {},
   "outputs": [],
   "source": [
    "import pandas as pd\n",
    "import numpy as np\n",
    "import matplotlib.pyplot as plt"
   ]
  },
  {
   "cell_type": "markdown",
   "metadata": {},
   "source": [
    "## Getting the Data\n",
    "\n",
    "First, we need get the metadata for CORD papers that we will be working with.\n",
    "\n",
    "**NOTE**: We do not provide a copy of the dataset as part of this repository. You may first need to download the [`metadata.csv`](https://www.kaggle.com/allen-institute-for-ai/CORD-19-research-challenge?select=metadata.csv) file from [this dataset on Kaggle](https://www.kaggle.com/allen-institute-for-ai/CORD-19-research-challenge). Registration with Kaggle may be required. You may also download the dataset without registration [from here](https://ai2-semanticscholar-cord-19.s3-us-west-2.amazonaws.com/historical_releases.html), but it will include all full texts in addition to metadata file.\n",
    "\n",
    "We will try to get the data directly from online source, however, if it fails, you need to download the data as described above. Also, it makes sense to download the data if you plan to experiment with it further, to save on waiting time.\n",
    "\n",
    "> **NOTE** that dataset is quite large, around 1 Gb in size, and the following line of code can take a long time to complete! (~5 mins)"
   ]
  },
  {
   "cell_type": "code",
   "execution_count": 2,
   "metadata": {},
   "outputs": [
    {
     "name": "stderr",
     "output_type": "stream",
     "text": [
      "C:\\Users\\magsa\\AppData\\Local\\Temp\\ipykernel_25260\\1405502695.py:2: DtypeWarning: Columns (1,4,5,6,13,14,15,16) have mixed types. Specify dtype option on import or set low_memory=False.\n",
      "  df = pd.read_csv(\"metadata.csv\")\n"
     ]
    },
    {
     "data": {
      "text/html": [
       "<div>\n",
       "<style scoped>\n",
       "    .dataframe tbody tr th:only-of-type {\n",
       "        vertical-align: middle;\n",
       "    }\n",
       "\n",
       "    .dataframe tbody tr th {\n",
       "        vertical-align: top;\n",
       "    }\n",
       "\n",
       "    .dataframe thead th {\n",
       "        text-align: right;\n",
       "    }\n",
       "</style>\n",
       "<table border=\"1\" class=\"dataframe\">\n",
       "  <thead>\n",
       "    <tr style=\"text-align: right;\">\n",
       "      <th></th>\n",
       "      <th>cord_uid</th>\n",
       "      <th>sha</th>\n",
       "      <th>source_x</th>\n",
       "      <th>title</th>\n",
       "      <th>doi</th>\n",
       "      <th>pmcid</th>\n",
       "      <th>pubmed_id</th>\n",
       "      <th>license</th>\n",
       "      <th>abstract</th>\n",
       "      <th>publish_time</th>\n",
       "      <th>authors</th>\n",
       "      <th>journal</th>\n",
       "      <th>mag_id</th>\n",
       "      <th>who_covidence_id</th>\n",
       "      <th>arxiv_id</th>\n",
       "      <th>pdf_json_files</th>\n",
       "      <th>pmc_json_files</th>\n",
       "      <th>url</th>\n",
       "      <th>s2_id</th>\n",
       "    </tr>\n",
       "  </thead>\n",
       "  <tbody>\n",
       "    <tr>\n",
       "      <th>0</th>\n",
       "      <td>ug7v899j</td>\n",
       "      <td>d1aafb70c066a2068b02786f8929fd9c900897fb</td>\n",
       "      <td>PMC</td>\n",
       "      <td>Clinical features of culture-proven Mycoplasma...</td>\n",
       "      <td>10.1186/1471-2334-1-6</td>\n",
       "      <td>PMC35282</td>\n",
       "      <td>11472636</td>\n",
       "      <td>no-cc</td>\n",
       "      <td>OBJECTIVE: This retrospective chart review des...</td>\n",
       "      <td>2001-07-04</td>\n",
       "      <td>Madani, Tariq A; Al-Ghamdi, Aisha A</td>\n",
       "      <td>BMC Infect Dis</td>\n",
       "      <td>NaN</td>\n",
       "      <td>NaN</td>\n",
       "      <td>NaN</td>\n",
       "      <td>document_parses/pdf_json/d1aafb70c066a2068b027...</td>\n",
       "      <td>document_parses/pmc_json/PMC35282.xml.json</td>\n",
       "      <td>https://www.ncbi.nlm.nih.gov/pmc/articles/PMC3...</td>\n",
       "      <td>NaN</td>\n",
       "    </tr>\n",
       "    <tr>\n",
       "      <th>1</th>\n",
       "      <td>02tnwd4m</td>\n",
       "      <td>6b0567729c2143a66d737eb0a2f63f2dce2e5a7d</td>\n",
       "      <td>PMC</td>\n",
       "      <td>Nitric oxide: a pro-inflammatory mediator in l...</td>\n",
       "      <td>10.1186/rr14</td>\n",
       "      <td>PMC59543</td>\n",
       "      <td>11667967</td>\n",
       "      <td>no-cc</td>\n",
       "      <td>Inflammatory diseases of the respiratory tract...</td>\n",
       "      <td>2000-08-15</td>\n",
       "      <td>Vliet, Albert van der; Eiserich, Jason P; Cros...</td>\n",
       "      <td>Respir Res</td>\n",
       "      <td>NaN</td>\n",
       "      <td>NaN</td>\n",
       "      <td>NaN</td>\n",
       "      <td>document_parses/pdf_json/6b0567729c2143a66d737...</td>\n",
       "      <td>document_parses/pmc_json/PMC59543.xml.json</td>\n",
       "      <td>https://www.ncbi.nlm.nih.gov/pmc/articles/PMC5...</td>\n",
       "      <td>NaN</td>\n",
       "    </tr>\n",
       "    <tr>\n",
       "      <th>2</th>\n",
       "      <td>ejv2xln0</td>\n",
       "      <td>06ced00a5fc04215949aa72528f2eeaae1d58927</td>\n",
       "      <td>PMC</td>\n",
       "      <td>Surfactant protein-D and pulmonary host defense</td>\n",
       "      <td>10.1186/rr19</td>\n",
       "      <td>PMC59549</td>\n",
       "      <td>11667972</td>\n",
       "      <td>no-cc</td>\n",
       "      <td>Surfactant protein-D (SP-D) participates in th...</td>\n",
       "      <td>2000-08-25</td>\n",
       "      <td>Crouch, Erika C</td>\n",
       "      <td>Respir Res</td>\n",
       "      <td>NaN</td>\n",
       "      <td>NaN</td>\n",
       "      <td>NaN</td>\n",
       "      <td>document_parses/pdf_json/06ced00a5fc04215949aa...</td>\n",
       "      <td>document_parses/pmc_json/PMC59549.xml.json</td>\n",
       "      <td>https://www.ncbi.nlm.nih.gov/pmc/articles/PMC5...</td>\n",
       "      <td>NaN</td>\n",
       "    </tr>\n",
       "    <tr>\n",
       "      <th>3</th>\n",
       "      <td>2b73a28n</td>\n",
       "      <td>348055649b6b8cf2b9a376498df9bf41f7123605</td>\n",
       "      <td>PMC</td>\n",
       "      <td>Role of endothelin-1 in lung disease</td>\n",
       "      <td>10.1186/rr44</td>\n",
       "      <td>PMC59574</td>\n",
       "      <td>11686871</td>\n",
       "      <td>no-cc</td>\n",
       "      <td>Endothelin-1 (ET-1) is a 21 amino acid peptide...</td>\n",
       "      <td>2001-02-22</td>\n",
       "      <td>Fagan, Karen A; McMurtry, Ivan F; Rodman, David M</td>\n",
       "      <td>Respir Res</td>\n",
       "      <td>NaN</td>\n",
       "      <td>NaN</td>\n",
       "      <td>NaN</td>\n",
       "      <td>document_parses/pdf_json/348055649b6b8cf2b9a37...</td>\n",
       "      <td>document_parses/pmc_json/PMC59574.xml.json</td>\n",
       "      <td>https://www.ncbi.nlm.nih.gov/pmc/articles/PMC5...</td>\n",
       "      <td>NaN</td>\n",
       "    </tr>\n",
       "    <tr>\n",
       "      <th>4</th>\n",
       "      <td>9785vg6d</td>\n",
       "      <td>5f48792a5fa08bed9f56016f4981ae2ca6031b32</td>\n",
       "      <td>PMC</td>\n",
       "      <td>Gene expression in epithelial cells in respons...</td>\n",
       "      <td>10.1186/rr61</td>\n",
       "      <td>PMC59580</td>\n",
       "      <td>11686888</td>\n",
       "      <td>no-cc</td>\n",
       "      <td>Respiratory syncytial virus (RSV) and pneumoni...</td>\n",
       "      <td>2001-05-11</td>\n",
       "      <td>Domachowske, Joseph B; Bonville, Cynthia A; Ro...</td>\n",
       "      <td>Respir Res</td>\n",
       "      <td>NaN</td>\n",
       "      <td>NaN</td>\n",
       "      <td>NaN</td>\n",
       "      <td>document_parses/pdf_json/5f48792a5fa08bed9f560...</td>\n",
       "      <td>document_parses/pmc_json/PMC59580.xml.json</td>\n",
       "      <td>https://www.ncbi.nlm.nih.gov/pmc/articles/PMC5...</td>\n",
       "      <td>NaN</td>\n",
       "    </tr>\n",
       "  </tbody>\n",
       "</table>\n",
       "</div>"
      ],
      "text/plain": [
       "   cord_uid                                       sha source_x  \\\n",
       "0  ug7v899j  d1aafb70c066a2068b02786f8929fd9c900897fb      PMC   \n",
       "1  02tnwd4m  6b0567729c2143a66d737eb0a2f63f2dce2e5a7d      PMC   \n",
       "2  ejv2xln0  06ced00a5fc04215949aa72528f2eeaae1d58927      PMC   \n",
       "3  2b73a28n  348055649b6b8cf2b9a376498df9bf41f7123605      PMC   \n",
       "4  9785vg6d  5f48792a5fa08bed9f56016f4981ae2ca6031b32      PMC   \n",
       "\n",
       "                                               title                    doi  \\\n",
       "0  Clinical features of culture-proven Mycoplasma...  10.1186/1471-2334-1-6   \n",
       "1  Nitric oxide: a pro-inflammatory mediator in l...           10.1186/rr14   \n",
       "2    Surfactant protein-D and pulmonary host defense           10.1186/rr19   \n",
       "3               Role of endothelin-1 in lung disease           10.1186/rr44   \n",
       "4  Gene expression in epithelial cells in respons...           10.1186/rr61   \n",
       "\n",
       "      pmcid pubmed_id license  \\\n",
       "0  PMC35282  11472636   no-cc   \n",
       "1  PMC59543  11667967   no-cc   \n",
       "2  PMC59549  11667972   no-cc   \n",
       "3  PMC59574  11686871   no-cc   \n",
       "4  PMC59580  11686888   no-cc   \n",
       "\n",
       "                                            abstract publish_time  \\\n",
       "0  OBJECTIVE: This retrospective chart review des...   2001-07-04   \n",
       "1  Inflammatory diseases of the respiratory tract...   2000-08-15   \n",
       "2  Surfactant protein-D (SP-D) participates in th...   2000-08-25   \n",
       "3  Endothelin-1 (ET-1) is a 21 amino acid peptide...   2001-02-22   \n",
       "4  Respiratory syncytial virus (RSV) and pneumoni...   2001-05-11   \n",
       "\n",
       "                                             authors         journal  mag_id  \\\n",
       "0                Madani, Tariq A; Al-Ghamdi, Aisha A  BMC Infect Dis     NaN   \n",
       "1  Vliet, Albert van der; Eiserich, Jason P; Cros...      Respir Res     NaN   \n",
       "2                                    Crouch, Erika C      Respir Res     NaN   \n",
       "3  Fagan, Karen A; McMurtry, Ivan F; Rodman, David M      Respir Res     NaN   \n",
       "4  Domachowske, Joseph B; Bonville, Cynthia A; Ro...      Respir Res     NaN   \n",
       "\n",
       "  who_covidence_id arxiv_id  \\\n",
       "0              NaN      NaN   \n",
       "1              NaN      NaN   \n",
       "2              NaN      NaN   \n",
       "3              NaN      NaN   \n",
       "4              NaN      NaN   \n",
       "\n",
       "                                      pdf_json_files  \\\n",
       "0  document_parses/pdf_json/d1aafb70c066a2068b027...   \n",
       "1  document_parses/pdf_json/6b0567729c2143a66d737...   \n",
       "2  document_parses/pdf_json/06ced00a5fc04215949aa...   \n",
       "3  document_parses/pdf_json/348055649b6b8cf2b9a37...   \n",
       "4  document_parses/pdf_json/5f48792a5fa08bed9f560...   \n",
       "\n",
       "                               pmc_json_files  \\\n",
       "0  document_parses/pmc_json/PMC35282.xml.json   \n",
       "1  document_parses/pmc_json/PMC59543.xml.json   \n",
       "2  document_parses/pmc_json/PMC59549.xml.json   \n",
       "3  document_parses/pmc_json/PMC59574.xml.json   \n",
       "4  document_parses/pmc_json/PMC59580.xml.json   \n",
       "\n",
       "                                                 url  s2_id  \n",
       "0  https://www.ncbi.nlm.nih.gov/pmc/articles/PMC3...    NaN  \n",
       "1  https://www.ncbi.nlm.nih.gov/pmc/articles/PMC5...    NaN  \n",
       "2  https://www.ncbi.nlm.nih.gov/pmc/articles/PMC5...    NaN  \n",
       "3  https://www.ncbi.nlm.nih.gov/pmc/articles/PMC5...    NaN  \n",
       "4  https://www.ncbi.nlm.nih.gov/pmc/articles/PMC5...    NaN  "
      ]
     },
     "execution_count": 2,
     "metadata": {},
     "output_type": "execute_result"
    }
   ],
   "source": [
    "# df = pd.read_csv(\"https://datascience4beginners.blob.core.windows.net/cord/metadata.csv.zip\",compression='zip')\n",
    "df = pd.read_csv(\"metadata.csv\")\n",
    "df.head()"
   ]
  },
  {
   "cell_type": "markdown",
   "metadata": {},
   "source": [
    "We will now convert publication date column to `datetime`, and plot the histogram to see the range of publication dates."
   ]
  },
  {
   "cell_type": "code",
   "execution_count": 3,
   "metadata": {},
   "outputs": [
    {
     "data": {
      "image/png": "[encoded data removed]",
      "text/plain": [
       "<Figure size 640x480 with 1 Axes>"
      ]
     },
     "metadata": {},
     "output_type": "display_data"
    }
   ],
   "source": [
    "df['publish_time'] = pd.to_datetime(df['publish_time'], format = 'mixed')\n",
    "df['publish_time'].hist()\n",
    "plt.show()"
   ]
  },
  {
   "cell_type": "markdown",
   "metadata": {},
   "source": [
    "Interestingly, there are coronavirus-related papers that date back to 1880!"
   ]
  },
  {
   "cell_type": "markdown",
   "metadata": {},
   "source": [
    "## Structured Data Extraction\n",
    "\n",
    "Let's see what kind of information we can easily extract from abstracts. One thing we might be interested in is to see which treatment strategies exist, and how they evolved over time. To begin with, we can manually compile the list of possible medications used to treat COVID, and also the list of diagnoses. We then go over them and search corresponding terms in the abstracts of papers."
   ]
  },
  {
   "cell_type": "code",
   "execution_count": 4,
   "metadata": {},
   "outputs": [
    {
     "name": "stdout",
     "output_type": "stream",
     "text": [
      " + Processing medication: hydroxychloroquine\n",
      " + Processing medication: chloroquine\n",
      " + Processing medication: tocilizumab\n",
      " + Processing medication: remdesivir\n",
      " + Processing medication: azithromycin\n",
      " + Processing medication: lopinavir\n",
      " + Processing medication: ritonavir\n",
      " + Processing medication: dexamethasone\n",
      " + Processing medication: heparin\n",
      " + Processing medication: favipiravir\n",
      " + Processing medication: methylprednisolone\n",
      " + Processing diagnosis: covid\n",
      " + Processing diagnosis: sars\n",
      " + Processing diagnosis: pneumonia\n",
      " + Processing diagnosis: infection\n",
      " + Processing diagnosis: diabetes\n",
      " + Processing diagnosis: coronavirus\n",
      " + Processing diagnosis: death\n"
     ]
    }
   ],
   "source": [
    "medications = [\n",
    "    'hydroxychloroquine', 'chloroquine', 'tocilizumab', 'remdesivir', 'azithromycin', \n",
    "    'lopinavir', 'ritonavir', 'dexamethasone', 'heparin', 'favipiravir', 'methylprednisolone']\n",
    "diagnosis = [\n",
    "    'covid','sars','pneumonia','infection','diabetes','coronavirus','death'\n",
    "]\n",
    "\n",
    "for m in medications:\n",
    "    print(f\" + Processing medication: {m}\")\n",
    "    df[m] = df['abstract'].apply(lambda x: str(x).lower().count(' '+m))\n",
    "    \n",
    "for m in diagnosis:\n",
    "    print(f\" + Processing diagnosis: {m}\")\n",
    "    df[m] = df['abstract'].apply(lambda x: str(x).lower().count(' '+m))"
   ]
  },
  {
   "cell_type": "code",
   "execution_count": 5,
   "metadata": {},
   "outputs": [
    {
     "data": {
      "text/html": [
       "<div>\n",
       "<style scoped>\n",
       "    .dataframe tbody tr th:only-of-type {\n",
       "        vertical-align: middle;\n",
       "    }\n",
       "\n",
       "    .dataframe tbody tr th {\n",
       "        vertical-align: top;\n",
       "    }\n",
       "\n",
       "    .dataframe thead th {\n",
       "        text-align: right;\n",
       "    }\n",
       "</style>\n",
       "<table border=\"1\" class=\"dataframe\">\n",
       "  <thead>\n",
       "    <tr style=\"text-align: right;\">\n",
       "      <th></th>\n",
       "      <th>cord_uid</th>\n",
       "      <th>sha</th>\n",
       "      <th>source_x</th>\n",
       "      <th>title</th>\n",
       "      <th>doi</th>\n",
       "      <th>pmcid</th>\n",
       "      <th>pubmed_id</th>\n",
       "      <th>license</th>\n",
       "      <th>abstract</th>\n",
       "      <th>publish_time</th>\n",
       "      <th>...</th>\n",
       "      <th>heparin</th>\n",
       "      <th>favipiravir</th>\n",
       "      <th>methylprednisolone</th>\n",
       "      <th>covid</th>\n",
       "      <th>sars</th>\n",
       "      <th>pneumonia</th>\n",
       "      <th>infection</th>\n",
       "      <th>diabetes</th>\n",
       "      <th>coronavirus</th>\n",
       "      <th>death</th>\n",
       "    </tr>\n",
       "  </thead>\n",
       "  <tbody>\n",
       "    <tr>\n",
       "      <th>0</th>\n",
       "      <td>ug7v899j</td>\n",
       "      <td>d1aafb70c066a2068b02786f8929fd9c900897fb</td>\n",
       "      <td>PMC</td>\n",
       "      <td>Clinical features of culture-proven Mycoplasma...</td>\n",
       "      <td>10.1186/1471-2334-1-6</td>\n",
       "      <td>PMC35282</td>\n",
       "      <td>11472636</td>\n",
       "      <td>no-cc</td>\n",
       "      <td>OBJECTIVE: This retrospective chart review des...</td>\n",
       "      <td>2001-07-04</td>\n",
       "      <td>...</td>\n",
       "      <td>0</td>\n",
       "      <td>0</td>\n",
       "      <td>0</td>\n",
       "      <td>0</td>\n",
       "      <td>0</td>\n",
       "      <td>10</td>\n",
       "      <td>6</td>\n",
       "      <td>0</td>\n",
       "      <td>0</td>\n",
       "      <td>0</td>\n",
       "    </tr>\n",
       "    <tr>\n",
       "      <th>1</th>\n",
       "      <td>02tnwd4m</td>\n",
       "      <td>6b0567729c2143a66d737eb0a2f63f2dce2e5a7d</td>\n",
       "      <td>PMC</td>\n",
       "      <td>Nitric oxide: a pro-inflammatory mediator in l...</td>\n",
       "      <td>10.1186/rr14</td>\n",
       "      <td>PMC59543</td>\n",
       "      <td>11667967</td>\n",
       "      <td>no-cc</td>\n",
       "      <td>Inflammatory diseases of the respiratory tract...</td>\n",
       "      <td>2000-08-15</td>\n",
       "      <td>...</td>\n",
       "      <td>0</td>\n",
       "      <td>0</td>\n",
       "      <td>0</td>\n",
       "      <td>0</td>\n",
       "      <td>0</td>\n",
       "      <td>0</td>\n",
       "      <td>0</td>\n",
       "      <td>0</td>\n",
       "      <td>0</td>\n",
       "      <td>0</td>\n",
       "    </tr>\n",
       "    <tr>\n",
       "      <th>2</th>\n",
       "      <td>ejv2xln0</td>\n",
       "      <td>06ced00a5fc04215949aa72528f2eeaae1d58927</td>\n",
       "      <td>PMC</td>\n",
       "      <td>Surfactant protein-D and pulmonary host defense</td>\n",
       "      <td>10.1186/rr19</td>\n",
       "      <td>PMC59549</td>\n",
       "      <td>11667972</td>\n",
       "      <td>no-cc</td>\n",
       "      <td>Surfactant protein-D (SP-D) participates in th...</td>\n",
       "      <td>2000-08-25</td>\n",
       "      <td>...</td>\n",
       "      <td>0</td>\n",
       "      <td>0</td>\n",
       "      <td>0</td>\n",
       "      <td>0</td>\n",
       "      <td>0</td>\n",
       "      <td>0</td>\n",
       "      <td>0</td>\n",
       "      <td>0</td>\n",
       "      <td>0</td>\n",
       "      <td>0</td>\n",
       "    </tr>\n",
       "    <tr>\n",
       "      <th>3</th>\n",
       "      <td>2b73a28n</td>\n",
       "      <td>348055649b6b8cf2b9a376498df9bf41f7123605</td>\n",
       "      <td>PMC</td>\n",
       "      <td>Role of endothelin-1 in lung disease</td>\n",
       "      <td>10.1186/rr44</td>\n",
       "      <td>PMC59574</td>\n",
       "      <td>11686871</td>\n",
       "      <td>no-cc</td>\n",
       "      <td>Endothelin-1 (ET-1) is a 21 amino acid peptide...</td>\n",
       "      <td>2001-02-22</td>\n",
       "      <td>...</td>\n",
       "      <td>0</td>\n",
       "      <td>0</td>\n",
       "      <td>0</td>\n",
       "      <td>0</td>\n",
       "      <td>0</td>\n",
       "      <td>0</td>\n",
       "      <td>0</td>\n",
       "      <td>0</td>\n",
       "      <td>0</td>\n",
       "      <td>0</td>\n",
       "    </tr>\n",
       "    <tr>\n",
       "      <th>4</th>\n",
       "      <td>9785vg6d</td>\n",
       "      <td>5f48792a5fa08bed9f56016f4981ae2ca6031b32</td>\n",
       "      <td>PMC</td>\n",
       "      <td>Gene expression in epithelial cells in respons...</td>\n",
       "      <td>10.1186/rr61</td>\n",
       "      <td>PMC59580</td>\n",
       "      <td>11686888</td>\n",
       "      <td>no-cc</td>\n",
       "      <td>Respiratory syncytial virus (RSV) and pneumoni...</td>\n",
       "      <td>2001-05-11</td>\n",
       "      <td>...</td>\n",
       "      <td>0</td>\n",
       "      <td>0</td>\n",
       "      <td>0</td>\n",
       "      <td>0</td>\n",
       "      <td>0</td>\n",
       "      <td>1</td>\n",
       "      <td>2</td>\n",
       "      <td>0</td>\n",
       "      <td>0</td>\n",
       "      <td>0</td>\n",
       "    </tr>\n",
       "  </tbody>\n",
       "</table>\n",
       "<p>5 rows × 37 columns</p>\n",
       "</div>"
      ],
      "text/plain": [
       "   cord_uid                                       sha source_x  \\\n",
       "0  ug7v899j  d1aafb70c066a2068b02786f8929fd9c900897fb      PMC   \n",
       "1  02tnwd4m  6b0567729c2143a66d737eb0a2f63f2dce2e5a7d      PMC   \n",
       "2  ejv2xln0  06ced00a5fc04215949aa72528f2eeaae1d58927      PMC   \n",
       "3  2b73a28n  348055649b6b8cf2b9a376498df9bf41f7123605      PMC   \n",
       "4  9785vg6d  5f48792a5fa08bed9f56016f4981ae2ca6031b32      PMC   \n",
       "\n",
       "                                               title                    doi  \\\n",
       "0  Clinical features of culture-proven Mycoplasma...  10.1186/1471-2334-1-6   \n",
       "1  Nitric oxide: a pro-inflammatory mediator in l...           10.1186/rr14   \n",
       "2    Surfactant protein-D and pulmonary host defense           10.1186/rr19   \n",
       "3               Role of endothelin-1 in lung disease           10.1186/rr44   \n",
       "4  Gene expression in epithelial cells in respons...           10.1186/rr61   \n",
       "\n",
       "      pmcid pubmed_id license  \\\n",
       "0  PMC35282  11472636   no-cc   \n",
       "1  PMC59543  11667967   no-cc   \n",
       "2  PMC59549  11667972   no-cc   \n",
       "3  PMC59574  11686871   no-cc   \n",
       "4  PMC59580  11686888   no-cc   \n",
       "\n",
       "                                            abstract publish_time  ...  \\\n",
       "0  OBJECTIVE: This retrospective chart review des...   2001-07-04  ...   \n",
       "1  Inflammatory diseases of the respiratory tract...   2000-08-15  ...   \n",
       "2  Surfactant protein-D (SP-D) participates in th...   2000-08-25  ...   \n",
       "3  Endothelin-1 (ET-1) is a 21 amino acid peptide...   2001-02-22  ...   \n",
       "4  Respiratory syncytial virus (RSV) and pneumoni...   2001-05-11  ...   \n",
       "\n",
       "  heparin favipiravir  methylprednisolone covid sars pneumonia infection  \\\n",
       "0       0           0                   0     0    0        10         6   \n",
       "1       0           0                   0     0    0         0         0   \n",
       "2       0           0                   0     0    0         0         0   \n",
       "3       0           0                   0     0    0         0         0   \n",
       "4       0           0                   0     0    0         1         2   \n",
       "\n",
       "  diabetes  coronavirus  death  \n",
       "0        0            0      0  \n",
       "1        0            0      0  \n",
       "2        0            0      0  \n",
       "3        0            0      0  \n",
       "4        0            0      0  \n",
       "\n",
       "[5 rows x 37 columns]"
      ]
     },
     "execution_count": 5,
     "metadata": {},
     "output_type": "execute_result"
    }
   ],
   "source": [
    "df.head()"
   ]
  },
  {
   "cell_type": "markdown",
   "metadata": {},
   "source": [
    "We have added a bunch of columns to our dataframe that contain number of times a given medicine/diagnosis is present in the abstract. \n",
    "\n",
    "> **Note** that we add space to the beginning of the word when looking for a substring. If we do not do that, we might get wrong results, because *chloroquine* would also be found inside substring *hydroxychloroquine*. Also, we force conversion of abstracts column to `str` to get rid of an error - try removing `str` and see what happens.\n",
    "\n",
    "To make working with data easier, we can extract the sub-frame with only medication counts, and compute the accumulated number of occurrences. This gives is the most popular medication: "
   ]
  },
  {
   "cell_type": "code",
   "execution_count": 6,
   "metadata": {},
   "outputs": [
    {
     "data": {
      "text/html": [
       "<div>\n",
       "<style scoped>\n",
       "    .dataframe tbody tr th:only-of-type {\n",
       "        vertical-align: middle;\n",
       "    }\n",
       "\n",
       "    .dataframe tbody tr th {\n",
       "        vertical-align: top;\n",
       "    }\n",
       "\n",
       "    .dataframe thead th {\n",
       "        text-align: right;\n",
       "    }\n",
       "</style>\n",
       "<table border=\"1\" class=\"dataframe\">\n",
       "  <thead>\n",
       "    <tr style=\"text-align: right;\">\n",
       "      <th></th>\n",
       "      <th>Name</th>\n",
       "      <th>Count</th>\n",
       "    </tr>\n",
       "  </thead>\n",
       "  <tbody>\n",
       "    <tr>\n",
       "      <th>0</th>\n",
       "      <td>hydroxychloroquine</td>\n",
       "      <td>11157</td>\n",
       "    </tr>\n",
       "    <tr>\n",
       "      <th>3</th>\n",
       "      <td>remdesivir</td>\n",
       "      <td>10680</td>\n",
       "    </tr>\n",
       "    <tr>\n",
       "      <th>2</th>\n",
       "      <td>tocilizumab</td>\n",
       "      <td>7914</td>\n",
       "    </tr>\n",
       "    <tr>\n",
       "      <th>8</th>\n",
       "      <td>heparin</td>\n",
       "      <td>5563</td>\n",
       "    </tr>\n",
       "    <tr>\n",
       "      <th>1</th>\n",
       "      <td>chloroquine</td>\n",
       "      <td>5222</td>\n",
       "    </tr>\n",
       "    <tr>\n",
       "      <th>7</th>\n",
       "      <td>dexamethasone</td>\n",
       "      <td>5110</td>\n",
       "    </tr>\n",
       "    <tr>\n",
       "      <th>4</th>\n",
       "      <td>azithromycin</td>\n",
       "      <td>4352</td>\n",
       "    </tr>\n",
       "    <tr>\n",
       "      <th>5</th>\n",
       "      <td>lopinavir</td>\n",
       "      <td>4315</td>\n",
       "    </tr>\n",
       "    <tr>\n",
       "      <th>9</th>\n",
       "      <td>favipiravir</td>\n",
       "      <td>3358</td>\n",
       "    </tr>\n",
       "    <tr>\n",
       "      <th>10</th>\n",
       "      <td>methylprednisolone</td>\n",
       "      <td>2346</td>\n",
       "    </tr>\n",
       "    <tr>\n",
       "      <th>6</th>\n",
       "      <td>ritonavir</td>\n",
       "      <td>1151</td>\n",
       "    </tr>\n",
       "  </tbody>\n",
       "</table>\n",
       "</div>"
      ],
      "text/plain": [
       "                  Name  Count\n",
       "0   hydroxychloroquine  11157\n",
       "3           remdesivir  10680\n",
       "2          tocilizumab   7914\n",
       "8              heparin   5563\n",
       "1          chloroquine   5222\n",
       "7        dexamethasone   5110\n",
       "4         azithromycin   4352\n",
       "5            lopinavir   4315\n",
       "9          favipiravir   3358\n",
       "10  methylprednisolone   2346\n",
       "6            ritonavir   1151"
      ]
     },
     "execution_count": 6,
     "metadata": {},
     "output_type": "execute_result"
    }
   ],
   "source": [
    "dfm = df[medications]\n",
    "dfm = dfm.sum().reset_index().rename(columns={ 'index' : 'Name', 0 : 'Count'})\n",
    "dfm.sort_values('Count',ascending=False)"
   ]
  },
  {
   "cell_type": "code",
   "execution_count": 7,
   "metadata": {},
   "outputs": [
    {
     "data": {
      "image/png": "[encoded data removed]",
      "text/plain": [
       "<Figure size 640x480 with 1 Axes>"
      ]
     },
     "metadata": {},
     "output_type": "display_data"
    }
   ],
   "source": [
    "dfm.set_index('Name').plot(kind='bar')\n",
    "plt.show()"
   ]
  },
  {
   "cell_type": "markdown",
   "metadata": {},
   "source": [
    "## Looking for Trends in Treatment Strategy\n",
    "\n",
    "In the example above we have `sum`ed all values, but we can also do the same on a monthly basis:"
   ]
  },
  {
   "cell_type": "code",
   "execution_count": 8,
   "metadata": {},
   "outputs": [
    {
     "data": {
      "text/html": [
       "<div>\n",
       "<style scoped>\n",
       "    .dataframe tbody tr th:only-of-type {\n",
       "        vertical-align: middle;\n",
       "    }\n",
       "\n",
       "    .dataframe tbody tr th {\n",
       "        vertical-align: top;\n",
       "    }\n",
       "\n",
       "    .dataframe thead th {\n",
       "        text-align: right;\n",
       "    }\n",
       "</style>\n",
       "<table border=\"1\" class=\"dataframe\">\n",
       "  <thead>\n",
       "    <tr style=\"text-align: right;\">\n",
       "      <th></th>\n",
       "      <th></th>\n",
       "      <th>hydroxychloroquine</th>\n",
       "      <th>chloroquine</th>\n",
       "      <th>tocilizumab</th>\n",
       "      <th>remdesivir</th>\n",
       "      <th>azithromycin</th>\n",
       "      <th>lopinavir</th>\n",
       "      <th>ritonavir</th>\n",
       "      <th>dexamethasone</th>\n",
       "      <th>heparin</th>\n",
       "      <th>favipiravir</th>\n",
       "      <th>methylprednisolone</th>\n",
       "    </tr>\n",
       "    <tr>\n",
       "      <th>publish_time</th>\n",
       "      <th>publish_time</th>\n",
       "      <th></th>\n",
       "      <th></th>\n",
       "      <th></th>\n",
       "      <th></th>\n",
       "      <th></th>\n",
       "      <th></th>\n",
       "      <th></th>\n",
       "      <th></th>\n",
       "      <th></th>\n",
       "      <th></th>\n",
       "      <th></th>\n",
       "    </tr>\n",
       "  </thead>\n",
       "  <tbody>\n",
       "    <tr>\n",
       "      <th rowspan=\"12\" valign=\"top\">2020</th>\n",
       "      <th>1</th>\n",
       "      <td>3885</td>\n",
       "      <td>1976</td>\n",
       "      <td>1911</td>\n",
       "      <td>2280</td>\n",
       "      <td>1226</td>\n",
       "      <td>1549</td>\n",
       "      <td>403</td>\n",
       "      <td>598</td>\n",
       "      <td>1027</td>\n",
       "      <td>730</td>\n",
       "      <td>386</td>\n",
       "    </tr>\n",
       "    <tr>\n",
       "      <th>2</th>\n",
       "      <td>0</td>\n",
       "      <td>19</td>\n",
       "      <td>0</td>\n",
       "      <td>3</td>\n",
       "      <td>3</td>\n",
       "      <td>18</td>\n",
       "      <td>11</td>\n",
       "      <td>1</td>\n",
       "      <td>3</td>\n",
       "      <td>12</td>\n",
       "      <td>19</td>\n",
       "    </tr>\n",
       "    <tr>\n",
       "      <th>3</th>\n",
       "      <td>46</td>\n",
       "      <td>73</td>\n",
       "      <td>5</td>\n",
       "      <td>29</td>\n",
       "      <td>12</td>\n",
       "      <td>52</td>\n",
       "      <td>16</td>\n",
       "      <td>3</td>\n",
       "      <td>18</td>\n",
       "      <td>11</td>\n",
       "      <td>15</td>\n",
       "    </tr>\n",
       "    <tr>\n",
       "      <th>4</th>\n",
       "      <td>186</td>\n",
       "      <td>236</td>\n",
       "      <td>49</td>\n",
       "      <td>122</td>\n",
       "      <td>69</td>\n",
       "      <td>113</td>\n",
       "      <td>13</td>\n",
       "      <td>14</td>\n",
       "      <td>80</td>\n",
       "      <td>48</td>\n",
       "      <td>13</td>\n",
       "    </tr>\n",
       "    <tr>\n",
       "      <th>5</th>\n",
       "      <td>450</td>\n",
       "      <td>188</td>\n",
       "      <td>158</td>\n",
       "      <td>209</td>\n",
       "      <td>128</td>\n",
       "      <td>134</td>\n",
       "      <td>41</td>\n",
       "      <td>12</td>\n",
       "      <td>93</td>\n",
       "      <td>48</td>\n",
       "      <td>21</td>\n",
       "    </tr>\n",
       "    <tr>\n",
       "      <th>6</th>\n",
       "      <td>381</td>\n",
       "      <td>149</td>\n",
       "      <td>243</td>\n",
       "      <td>186</td>\n",
       "      <td>110</td>\n",
       "      <td>132</td>\n",
       "      <td>18</td>\n",
       "      <td>48</td>\n",
       "      <td>84</td>\n",
       "      <td>30</td>\n",
       "      <td>30</td>\n",
       "    </tr>\n",
       "    <tr>\n",
       "      <th>7</th>\n",
       "      <td>379</td>\n",
       "      <td>176</td>\n",
       "      <td>204</td>\n",
       "      <td>174</td>\n",
       "      <td>108</td>\n",
       "      <td>138</td>\n",
       "      <td>29</td>\n",
       "      <td>58</td>\n",
       "      <td>116</td>\n",
       "      <td>56</td>\n",
       "      <td>27</td>\n",
       "    </tr>\n",
       "    <tr>\n",
       "      <th>8</th>\n",
       "      <td>313</td>\n",
       "      <td>115</td>\n",
       "      <td>175</td>\n",
       "      <td>173</td>\n",
       "      <td>148</td>\n",
       "      <td>93</td>\n",
       "      <td>24</td>\n",
       "      <td>56</td>\n",
       "      <td>96</td>\n",
       "      <td>46</td>\n",
       "      <td>35</td>\n",
       "    </tr>\n",
       "    <tr>\n",
       "      <th>9</th>\n",
       "      <td>318</td>\n",
       "      <td>124</td>\n",
       "      <td>188</td>\n",
       "      <td>190</td>\n",
       "      <td>90</td>\n",
       "      <td>97</td>\n",
       "      <td>28</td>\n",
       "      <td>90</td>\n",
       "      <td>113</td>\n",
       "      <td>46</td>\n",
       "      <td>26</td>\n",
       "    </tr>\n",
       "    <tr>\n",
       "      <th>10</th>\n",
       "      <td>311</td>\n",
       "      <td>96</td>\n",
       "      <td>210</td>\n",
       "      <td>227</td>\n",
       "      <td>93</td>\n",
       "      <td>126</td>\n",
       "      <td>39</td>\n",
       "      <td>101</td>\n",
       "      <td>117</td>\n",
       "      <td>82</td>\n",
       "      <td>37</td>\n",
       "    </tr>\n",
       "    <tr>\n",
       "      <th>11</th>\n",
       "      <td>267</td>\n",
       "      <td>66</td>\n",
       "      <td>169</td>\n",
       "      <td>202</td>\n",
       "      <td>77</td>\n",
       "      <td>106</td>\n",
       "      <td>27</td>\n",
       "      <td>84</td>\n",
       "      <td>124</td>\n",
       "      <td>78</td>\n",
       "      <td>44</td>\n",
       "    </tr>\n",
       "    <tr>\n",
       "      <th>12</th>\n",
       "      <td>254</td>\n",
       "      <td>108</td>\n",
       "      <td>228</td>\n",
       "      <td>267</td>\n",
       "      <td>98</td>\n",
       "      <td>75</td>\n",
       "      <td>30</td>\n",
       "      <td>73</td>\n",
       "      <td>87</td>\n",
       "      <td>56</td>\n",
       "      <td>59</td>\n",
       "    </tr>\n",
       "    <tr>\n",
       "      <th rowspan=\"7\" valign=\"top\">2021</th>\n",
       "      <th>1</th>\n",
       "      <td>2467</td>\n",
       "      <td>882</td>\n",
       "      <td>2165</td>\n",
       "      <td>2877</td>\n",
       "      <td>1072</td>\n",
       "      <td>932</td>\n",
       "      <td>216</td>\n",
       "      <td>1501</td>\n",
       "      <td>1327</td>\n",
       "      <td>1002</td>\n",
       "      <td>608</td>\n",
       "    </tr>\n",
       "    <tr>\n",
       "      <th>2</th>\n",
       "      <td>165</td>\n",
       "      <td>66</td>\n",
       "      <td>184</td>\n",
       "      <td>180</td>\n",
       "      <td>90</td>\n",
       "      <td>76</td>\n",
       "      <td>9</td>\n",
       "      <td>93</td>\n",
       "      <td>62</td>\n",
       "      <td>52</td>\n",
       "      <td>63</td>\n",
       "    </tr>\n",
       "    <tr>\n",
       "      <th>3</th>\n",
       "      <td>175</td>\n",
       "      <td>86</td>\n",
       "      <td>189</td>\n",
       "      <td>301</td>\n",
       "      <td>89</td>\n",
       "      <td>101</td>\n",
       "      <td>18</td>\n",
       "      <td>155</td>\n",
       "      <td>85</td>\n",
       "      <td>87</td>\n",
       "      <td>37</td>\n",
       "    </tr>\n",
       "    <tr>\n",
       "      <th>4</th>\n",
       "      <td>200</td>\n",
       "      <td>71</td>\n",
       "      <td>129</td>\n",
       "      <td>167</td>\n",
       "      <td>89</td>\n",
       "      <td>60</td>\n",
       "      <td>13</td>\n",
       "      <td>140</td>\n",
       "      <td>141</td>\n",
       "      <td>59</td>\n",
       "      <td>46</td>\n",
       "    </tr>\n",
       "    <tr>\n",
       "      <th>5</th>\n",
       "      <td>152</td>\n",
       "      <td>55</td>\n",
       "      <td>139</td>\n",
       "      <td>182</td>\n",
       "      <td>71</td>\n",
       "      <td>56</td>\n",
       "      <td>22</td>\n",
       "      <td>112</td>\n",
       "      <td>139</td>\n",
       "      <td>104</td>\n",
       "      <td>47</td>\n",
       "    </tr>\n",
       "    <tr>\n",
       "      <th>6</th>\n",
       "      <td>144</td>\n",
       "      <td>30</td>\n",
       "      <td>146</td>\n",
       "      <td>180</td>\n",
       "      <td>75</td>\n",
       "      <td>47</td>\n",
       "      <td>14</td>\n",
       "      <td>124</td>\n",
       "      <td>105</td>\n",
       "      <td>66</td>\n",
       "      <td>40</td>\n",
       "    </tr>\n",
       "    <tr>\n",
       "      <th>7</th>\n",
       "      <td>115</td>\n",
       "      <td>45</td>\n",
       "      <td>96</td>\n",
       "      <td>252</td>\n",
       "      <td>83</td>\n",
       "      <td>52</td>\n",
       "      <td>4</td>\n",
       "      <td>176</td>\n",
       "      <td>103</td>\n",
       "      <td>40</td>\n",
       "      <td>49</td>\n",
       "    </tr>\n",
       "  </tbody>\n",
       "</table>\n",
       "</div>"
      ],
      "text/plain": [
       "                           hydroxychloroquine  chloroquine  tocilizumab  \\\n",
       "publish_time publish_time                                                 \n",
       "2020         1                           3885         1976         1911   \n",
       "             2                              0           19            0   \n",
       "             3                             46           73            5   \n",
       "             4                            186          236           49   \n",
       "             5                            450          188          158   \n",
       "             6                            381          149          243   \n",
       "             7                            379          176          204   \n",
       "             8                            313          115          175   \n",
       "             9                            318          124          188   \n",
       "             10                           311           96          210   \n",
       "             11                           267           66          169   \n",
       "             12                           254          108          228   \n",
       "2021         1                           2467          882         2165   \n",
       "             2                            165           66          184   \n",
       "             3                            175           86          189   \n",
       "             4                            200           71          129   \n",
       "             5                            152           55          139   \n",
       "             6                            144           30          146   \n",
       "             7                            115           45           96   \n",
       "\n",
       "                           remdesivir  azithromycin  lopinavir  ritonavir  \\\n",
       "publish_time publish_time                                                   \n",
       "2020         1                   2280          1226       1549        403   \n",
       "             2                      3             3         18         11   \n",
       "             3                     29            12         52         16   \n",
       "             4                    122            69        113         13   \n",
       "             5                    209           128        134         41   \n",
       "             6                    186           110        132         18   \n",
       "             7                    174           108        138         29   \n",
       "             8                    173           148         93         24   \n",
       "             9                    190            90         97         28   \n",
       "             10                   227            93        126         39   \n",
       "             11                   202            77        106         27   \n",
       "             12                   267            98         75         30   \n",
       "2021         1                   2877          1072        932        216   \n",
       "             2                    180            90         76          9   \n",
       "             3                    301            89        101         18   \n",
       "             4                    167            89         60         13   \n",
       "             5                    182            71         56         22   \n",
       "             6                    180            75         47         14   \n",
       "             7                    252            83         52          4   \n",
       "\n",
       "                           dexamethasone  heparin  favipiravir  \\\n",
       "publish_time publish_time                                        \n",
       "2020         1                       598     1027          730   \n",
       "             2                         1        3           12   \n",
       "             3                         3       18           11   \n",
       "             4                        14       80           48   \n",
       "             5                        12       93           48   \n",
       "             6                        48       84           30   \n",
       "             7                        58      116           56   \n",
       "             8                        56       96           46   \n",
       "             9                        90      113           46   \n",
       "             10                      101      117           82   \n",
       "             11                       84      124           78   \n",
       "             12                       73       87           56   \n",
       "2021         1                      1501     1327         1002   \n",
       "             2                        93       62           52   \n",
       "             3                       155       85           87   \n",
       "             4                       140      141           59   \n",
       "             5                       112      139          104   \n",
       "             6                       124      105           66   \n",
       "             7                       176      103           40   \n",
       "\n",
       "                           methylprednisolone  \n",
       "publish_time publish_time                      \n",
       "2020         1                            386  \n",
       "             2                             19  \n",
       "             3                             15  \n",
       "             4                             13  \n",
       "             5                             21  \n",
       "             6                             30  \n",
       "             7                             27  \n",
       "             8                             35  \n",
       "             9                             26  \n",
       "             10                            37  \n",
       "             11                            44  \n",
       "             12                            59  \n",
       "2021         1                            608  \n",
       "             2                             63  \n",
       "             3                             37  \n",
       "             4                             46  \n",
       "             5                             47  \n",
       "             6                             40  \n",
       "             7                             49  "
      ]
     },
     "execution_count": 8,
     "metadata": {},
     "output_type": "execute_result"
    }
   ],
   "source": [
    "dfm = df[['publish_time']+medications].set_index('publish_time')\n",
    "dfm = dfm[(dfm.index>=\"2020-01-01\") & (dfm.index<=\"2021-07-31\")]\n",
    "dfmt = dfm.groupby([dfm.index.year,dfm.index.month]).sum()\n",
    "dfmt"
   ]
  },
  {
   "cell_type": "markdown",
   "metadata": {},
   "source": [
    "This gives us a good picture of treatment strategies. Let's visualize it!"
   ]
  },
  {
   "cell_type": "code",
   "execution_count": 9,
   "metadata": {},
   "outputs": [
    {
     "data": {
      "image/png": "[encoded data removed]",
      "text/plain": [
       "<Figure size 640x480 with 1 Axes>"
      ]
     },
     "metadata": {},
     "output_type": "display_data"
    }
   ],
   "source": [
    "dfmt.plot()\n",
    "plt.show()"
   ]
  },
  {
   "cell_type": "markdown",
   "metadata": {},
   "source": [
    "An interesting observation is that we have huge spikes at two locations: January, 2020 and January, 2021. It is caused by the fact that some papers do not have a clearly specified data of publication, and they are specified as January of the respective year.\n",
    "\n",
    "To make more sense of the data, let's visualize just a few medicines. We will also \"erase\" data for January, and fill it in by some medium value, in order to make nicer plot:"
   ]
  },
  {
   "cell_type": "code",
   "execution_count": 10,
   "metadata": {},
   "outputs": [
    {
     "data": {
      "image/png": "[encoded data removed]",
      "text/plain": [
       "<Figure size 1400x300 with 3 Axes>"
      ]
     },
     "metadata": {},
     "output_type": "display_data"
    }
   ],
   "source": [
    "meds = ['hydroxychloroquine','tocilizumab','favipiravir']\n",
    "dfmt.loc[(2020,1)] = np.nan\n",
    "dfmt.loc[(2021,1)] = np.nan\n",
    "dfmt.fillna(method='pad',inplace=True)\n",
    "fig, ax = plt.subplots(1,len(meds),figsize=(14,3))\n",
    "for i,m in enumerate(meds):\n",
    "    dfmt[m].plot(ax=ax[i])\n",
    "    ax[i].set_title(m)\n",
    "plt.show()"
   ]
  },
  {
   "cell_type": "markdown",
   "metadata": {},
   "source": [
    "Observe how popularity of hydroxychloroquine was on the rise in the first few months, and then started to decline, while number of mentions of favipiravir shows stable rise. Another good way to visualize relative popularity is to use **stack plot** (or **area plot** in Pandas terminology):"
   ]
  },
  {
   "cell_type": "code",
   "execution_count": 11,
   "metadata": {},
   "outputs": [
    {
     "data": {
      "image/png": "[encoded data removed]",
      "text/plain": [
       "<Figure size 640x480 with 1 Axes>"
      ]
     },
     "metadata": {},
     "output_type": "display_data"
    }
   ],
   "source": [
    "dfmt.plot.area()\n",
    "plt.show()"
   ]
  },
  {
   "cell_type": "markdown",
   "metadata": {},
   "source": [
    "Even further, we can compute relative popularity in percents:"
   ]
  },
  {
   "cell_type": "code",
   "execution_count": 12,
   "metadata": {},
   "outputs": [
    {
     "data": {
      "image/png": "[encoded data removed]",
      "text/plain": [
       "<Figure size 640x480 with 1 Axes>"
      ]
     },
     "metadata": {},
     "output_type": "display_data"
    }
   ],
   "source": [
    "dfmtp = dfmt.iloc[:,:].apply(lambda x: x/x.sum(), axis=1)\n",
    "dfmtp.plot.area()\n",
    "plt.show()"
   ]
  },
  {
   "cell_type": "markdown",
   "metadata": {},
   "source": [
    "\n",
    "## Computing Medicine-Diagnosis Correspondence\n",
    "\n",
    "One of the most interesting relationships we can look for is how different diagnoses are treated with different medicines. In order to visualize it, we need to compute **co-occurence frequency map**, which would show how many times two terms are mentioned in the same paper.\n",
    "\n",
    "Such a map is essentially a 2D matrix, which is best represented by **numpy array**. We will compute this map by walking through all abstracts, and marking entities that occur there:"
   ]
  },
  {
   "cell_type": "code",
   "execution_count": 13,
   "metadata": {},
   "outputs": [],
   "source": [
    "m = np.zeros((len(medications),len(diagnosis)))\n",
    "for a in df['abstract']:\n",
    "    x = str(a).lower()\n",
    "    for i,d in enumerate(diagnosis):\n",
    "        if ' '+d in x:\n",
    "            for j,me in enumerate(medications):\n",
    "                if ' '+me in x:\n",
    "                    m[j,i] += 1"
   ]
  },
  {
   "cell_type": "code",
   "execution_count": 14,
   "metadata": {},
   "outputs": [
    {
     "data": {
      "text/plain": [
       "array([[5470., 2585.,  812., 2381.,  387., 3036., 1081.],\n",
       "       [2376., 1381.,  258., 1077.,   90., 1555.,  408.],\n",
       "       [2738., 1007.,  833., 1343.,  236., 1333.,  678.],\n",
       "       [4284., 2804.,  720., 2076.,  241., 2677.,  817.],\n",
       "       [2163.,  928.,  476., 1066.,  180., 1032.,  481.],\n",
       "       [2244., 1239.,  424.,  976.,  122., 1495.,  406.],\n",
       "       [ 594.,  429.,   87.,  301.,   23.,  409.,  123.],\n",
       "       [2164.,  919.,  521., 1113.,  180., 1019.,  463.],\n",
       "       [2035.,  877.,  428.,  999.,  137.,  996.,  365.],\n",
       "       [1257.,  791.,  250.,  565.,   55.,  804.,  173.],\n",
       "       [1008.,  476.,  399.,  574.,  100.,  582.,  205.]])"
      ]
     },
     "execution_count": 14,
     "metadata": {},
     "output_type": "execute_result"
    }
   ],
   "source": [
    "m"
   ]
  },
  {
   "cell_type": "markdown",
   "metadata": {},
   "source": [
    "One of the ways to visualize this matrix is to draw a **heatmap**:"
   ]
  },
  {
   "cell_type": "code",
   "execution_count": 15,
   "metadata": {},
   "outputs": [
    {
     "data": {
      "image/png": "[encoded data removed]",
      "text/plain": [
       "<Figure size 640x480 with 1 Axes>"
      ]
     },
     "metadata": {},
     "output_type": "display_data"
    }
   ],
   "source": [
    "plt.imshow(m,interpolation='nearest',cmap='hot')\n",
    "ax = plt.gca()\n",
    "ax.set_yticks(range(len(medications))) \n",
    "ax.set_yticklabels(medications)\n",
    "ax.set_xticks(range(len(diagnosis)))\n",
    "ax.set_xticklabels(diagnosis,rotation=90)\n",
    "plt.show()"
   ]
  },
  {
   "cell_type": "markdown",
   "metadata": {},
   "source": [
    "However, even better visualization can be done using so-called **Sankey** diagram! `matplotlib` does not have built-in support for this diagram type, so we would have to use [Plotly](https://plotly.com/python/) as described [in this tutorial](https://plotly.com/python/sankey-diagram/).\n",
    "\n",
    "To make plotly sankey diagram, we need to build the following lists:\n",
    "* List `all_nodes` of all nodes in the graph, which will include both medications and diagnosis\n",
    "* List of source and target indices - those lists would show, which nodes go to the left, and which to the right part of the diagram\n",
    "* List of all links, each link consisting of:\n",
    "   - Source index in the `all_nodes` array\n",
    "   - Target index \n",
    "   - Value indicating strength of the link. This is exactly the value from our co-occurence matrix.\n",
    "   - Optionally color of the link. We will make an option to highlight some of the terms for clarity\n",
    "\n",
    "Generic code to draw sankey diagram is structured as a separate `sankey` function, which takes two lists (source and target categories) and co-occurence matrix. It also allows us to specify the threshold, and omit all links that are weaker than that threshold - this makes the diagram a little bit less complex. "
   ]
  },
  {
   "cell_type": "code",
   "execution_count": 16,
   "metadata": {},
   "outputs": [
    {
     "data": {
      "application/vnd.plotly.v1+json": {
       "config": {
        "plotlyServerURL": "https://plot.ly"
       },
       "data": [
        {
         "link": {
          "color": [
           "pink",
           "lightgray",
           "lightgray",
           "lightgray",
           "lightgray",
           "lightgray",
           "pink",
           "lightgray",
           "lightgray",
           "lightgray",
           "pink",
           "lightgray",
           "lightgray",
           "lightgray",
           "lightgray",
           "lightgray",
           "pink",
           "lightgray",
           "lightgray",
           "lightgray",
           "lightgray",
           "lightgray",
           "pink",
           "lightgray",
           "lightgray",
           "lightgray",
           "pink",
           "lightgray",
           "lightgray",
           "lightgray",
           "pink",
           "pink",
           "lightgray",
           "lightgray",
           "lightgray",
           "lightgray",
           "pink",
           "lightgray",
           "lightgray",
           "lightgray",
           "pink",
           "lightgray",
           "lightgray",
           "lightgray",
           "pink",
           "lightgray",
           "lightgray"
          ],
          "source": [
           0,
           0,
           0,
           0,
           0,
           0,
           1,
           1,
           1,
           1,
           2,
           2,
           2,
           2,
           2,
           2,
           3,
           3,
           3,
           3,
           3,
           3,
           4,
           4,
           4,
           4,
           5,
           5,
           5,
           5,
           6,
           7,
           7,
           7,
           7,
           7,
           8,
           8,
           8,
           8,
           9,
           9,
           9,
           9,
           10,
           10,
           10
          ],
          "target": [
           11,
           12,
           13,
           14,
           16,
           17,
           11,
           12,
           14,
           16,
           11,
           12,
           13,
           14,
           16,
           17,
           11,
           12,
           13,
           14,
           16,
           17,
           11,
           12,
           14,
           16,
           11,
           12,
           14,
           16,
           11,
           11,
           12,
           13,
           14,
           16,
           11,
           12,
           14,
           16,
           11,
           12,
           14,
           16,
           11,
           14,
           16
          ],
          "value": [
           5470,
           2585,
           812,
           2381,
           3036,
           1081,
           2376,
           1381,
           1077,
           1555,
           2738,
           1007,
           833,
           1343,
           1333,
           678,
           4284,
           2804,
           720,
           2076,
           2677,
           817,
           2163,
           928,
           1066,
           1032,
           2244,
           1239,
           976,
           1495,
           594,
           2164,
           919,
           521,
           1113,
           1019,
           2035,
           877,
           999,
           996,
           1257,
           791,
           565,
           804,
           1008,
           574,
           582
          ]
         },
         "node": {
          "label": [
           "hydroxychloroquine",
           "chloroquine",
           "tocilizumab",
           "remdesivir",
           "azithromycin",
           "lopinavir",
           "ritonavir",
           "dexamethasone",
           "heparin",
           "favipiravir",
           "methylprednisolone",
           "covid",
           "sars",
           "pneumonia",
           "infection",
           "diabetes",
           "coronavirus",
           "death"
          ],
          "line": {
           "color": "black",
           "width": 1
          },
          "pad": 40,
          "thickness": 40
         },
         "type": "sankey"
        }
       ],
       "layout": {
        "template": {
         "data": {
          "bar": [
           {
            "error_x": {
             "color": "#2a3f5f"
            },
            "error_y": {
             "color": "#2a3f5f"
            },
            "marker": {
             "line": {
              "color": "#E5ECF6",
              "width": 0.5
             },
             "pattern": {
              "fillmode": "overlay",
              "size": 10,
              "solidity": 0.2
             }
            },
            "type": "bar"
           }
          ],
          "barpolar": [
           {
            "marker": {
             "line": {
              "color": "#E5ECF6",
              "width": 0.5
             },
             "pattern": {
              "fillmode": "overlay",
              "size": 10,
              "solidity": 0.2
             }
            },
            "type": "barpolar"
           }
          ],
          "carpet": [
           {
            "aaxis": {
             "endlinecolor": "#2a3f5f",
             "gridcolor": "white",
             "linecolor": "white",
             "minorgridcolor": "white",
             "startlinecolor": "#2a3f5f"
            },
            "baxis": {
             "endlinecolor": "#2a3f5f",
             "gridcolor": "white",
             "linecolor": "white",
             "minorgridcolor": "white",
             "startlinecolor": "#2a3f5f"
            },
            "type": "carpet"
           }
          ],
          "choropleth": [
           {
            "colorbar": {
             "outlinewidth": 0,
             "ticks": ""
            },
            "type": "choropleth"
           }
          ],
          "contour": [
           {
            "colorbar": {
             "outlinewidth": 0,
             "ticks": ""
            },
            "colorscale": [
             [
              0,
              "#0d0887"
             ],
             [
              0.1111111111111111,
              "#46039f"
             ],
             [
              0.2222222222222222,
              "#7201a8"
             ],
             [
              0.3333333333333333,
              "#9c179e"
             ],
             [
              0.4444444444444444,
              "#bd3786"
             ],
             [
              0.5555555555555556,
              "#d8576b"
             ],
             [
              0.6666666666666666,
              "#ed7953"
             ],
             [
              0.7777777777777778,
              "#fb9f3a"
             ],
             [
              0.8888888888888888,
              "#fdca26"
             ],
             [
              1,
              "#f0f921"
             ]
            ],
            "type": "contour"
           }
          ],
          "contourcarpet": [
           {
            "colorbar": {
             "outlinewidth": 0,
             "ticks": ""
            },
            "type": "contourcarpet"
           }
          ],
          "heatmap": [
           {
            "colorbar": {
             "outlinewidth": 0,
             "ticks": ""
            },
            "colorscale": [
             [
              0,
              "#0d0887"
             ],
             [
              0.1111111111111111,
              "#46039f"
             ],
             [
              0.2222222222222222,
              "#7201a8"
             ],
             [
              0.3333333333333333,
              "#9c179e"
             ],
             [
              0.4444444444444444,
              "#bd3786"
             ],
             [
              0.5555555555555556,
              "#d8576b"
             ],
             [
              0.6666666666666666,
              "#ed7953"
             ],
             [
              0.7777777777777778,
              "#fb9f3a"
             ],
             [
              0.8888888888888888,
              "#fdca26"
             ],
             [
              1,
              "#f0f921"
             ]
            ],
            "type": "heatmap"
           }
          ],
          "heatmapgl": [
           {
            "colorbar": {
             "outlinewidth": 0,
             "ticks": ""
            },
            "colorscale": [
             [
              0,
              "#0d0887"
             ],
             [
              0.1111111111111111,
              "#46039f"
             ],
             [
              0.2222222222222222,
              "#7201a8"
             ],
             [
              0.3333333333333333,
              "#9c179e"
             ],
             [
              0.4444444444444444,
              "#bd3786"
             ],
             [
              0.5555555555555556,
              "#d8576b"
             ],
             [
              0.6666666666666666,
              "#ed7953"
             ],
             [
              0.7777777777777778,
              "#fb9f3a"
             ],
             [
              0.8888888888888888,
              "#fdca26"
             ],
             [
              1,
              "#f0f921"
             ]
            ],
            "type": "heatmapgl"
           }
          ],
          "histogram": [
           {
            "marker": {
             "pattern": {
              "fillmode": "overlay",
              "size": 10,
              "solidity": 0.2
             }
            },
            "type": "histogram"
           }
          ],
          "histogram2d": [
           {
            "colorbar": {
             "outlinewidth": 0,
             "ticks": ""
            },
            "colorscale": [
             [
              0,
              "#0d0887"
             ],
             [
              0.1111111111111111,
              "#46039f"
             ],
             [
              0.2222222222222222,
              "#7201a8"
             ],
             [
              0.3333333333333333,
              "#9c179e"
             ],
             [
              0.4444444444444444,
              "#bd3786"
             ],
             [
              0.5555555555555556,
              "#d8576b"
             ],
             [
              0.6666666666666666,
              "#ed7953"
             ],
             [
              0.7777777777777778,
              "#fb9f3a"
             ],
             [
              0.8888888888888888,
              "#fdca26"
             ],
             [
              1,
              "#f0f921"
             ]
            ],
            "type": "histogram2d"
           }
          ],
          "histogram2dcontour": [
           {
            "colorbar": {
             "outlinewidth": 0,
             "ticks": ""
            },
            "colorscale": [
             [
              0,
              "#0d0887"
             ],
             [
              0.1111111111111111,
              "#46039f"
             ],
             [
              0.2222222222222222,
              "#7201a8"
             ],
             [
              0.3333333333333333,
              "#9c179e"
             ],
             [
              0.4444444444444444,
              "#bd3786"
             ],
             [
              0.5555555555555556,
              "#d8576b"
             ],
             [
              0.6666666666666666,
              "#ed7953"
             ],
             [
              0.7777777777777778,
              "#fb9f3a"
             ],
             [
              0.8888888888888888,
              "#fdca26"
             ],
             [
              1,
              "#f0f921"
             ]
            ],
            "type": "histogram2dcontour"
           }
          ],
          "mesh3d": [
           {
            "colorbar": {
             "outlinewidth": 0,
             "ticks": ""
            },
            "type": "mesh3d"
           }
          ],
          "parcoords": [
           {
            "line": {
             "colorbar": {
              "outlinewidth": 0,
              "ticks": ""
             }
            },
            "type": "parcoords"
           }
          ],
          "pie": [
           {
            "automargin": true,
            "type": "pie"
           }
          ],
          "scatter": [
           {
            "fillpattern": {
             "fillmode": "overlay",
             "size": 10,
             "solidity": 0.2
            },
            "type": "scatter"
           }
          ],
          "scatter3d": [
           {
            "line": {
             "colorbar": {
              "outlinewidth": 0,
              "ticks": ""
             }
            },
            "marker": {
             "colorbar": {
              "outlinewidth": 0,
              "ticks": ""
             }
            },
            "type": "scatter3d"
           }
          ],
          "scattercarpet": [
           {
            "marker": {
             "colorbar": {
              "outlinewidth": 0,
              "ticks": ""
             }
            },
            "type": "scattercarpet"
           }
          ],
          "scattergeo": [
           {
            "marker": {
             "colorbar": {
              "outlinewidth": 0,
              "ticks": ""
             }
            },
            "type": "scattergeo"
           }
          ],
          "scattergl": [
           {
            "marker": {
             "colorbar": {
              "outlinewidth": 0,
              "ticks": ""
             }
            },
            "type": "scattergl"
           }
          ],
          "scattermapbox": [
           {
            "marker": {
             "colorbar": {
              "outlinewidth": 0,
              "ticks": ""
             }
            },
            "type": "scattermapbox"
           }
          ],
          "scatterpolar": [
           {
            "marker": {
             "colorbar": {
              "outlinewidth": 0,
              "ticks": ""
             }
            },
            "type": "scatterpolar"
           }
          ],
          "scatterpolargl": [
           {
            "marker": {
             "colorbar": {
              "outlinewidth": 0,
              "ticks": ""
             }
            },
            "type": "scatterpolargl"
           }
          ],
          "scatterternary": [
           {
            "marker": {
             "colorbar": {
              "outlinewidth": 0,
              "ticks": ""
             }
            },
            "type": "scatterternary"
           }
          ],
          "surface": [
           {
            "colorbar": {
             "outlinewidth": 0,
             "ticks": ""
            },
            "colorscale": [
             [
              0,
              "#0d0887"
             ],
             [
              0.1111111111111111,
              "#46039f"
             ],
             [
              0.2222222222222222,
              "#7201a8"
             ],
             [
              0.3333333333333333,
              "#9c179e"
             ],
             [
              0.4444444444444444,
              "#bd3786"
             ],
             [
              0.5555555555555556,
              "#d8576b"
             ],
             [
              0.6666666666666666,
              "#ed7953"
             ],
             [
              0.7777777777777778,
              "#fb9f3a"
             ],
             [
              0.8888888888888888,
              "#fdca26"
             ],
             [
              1,
              "#f0f921"
             ]
            ],
            "type": "surface"
           }
          ],
          "table": [
           {
            "cells": {
             "fill": {
              "color": "#EBF0F8"
             },
             "line": {
              "color": "white"
             }
            },
            "header": {
             "fill": {
              "color": "#C8D4E3"
             },
             "line": {
              "color": "white"
             }
            },
            "type": "table"
           }
          ]
         },
         "layout": {
          "annotationdefaults": {
           "arrowcolor": "#2a3f5f",
           "arrowhead": 0,
           "arrowwidth": 1
          },
          "autotypenumbers": "strict",
          "coloraxis": {
           "colorbar": {
            "outlinewidth": 0,
            "ticks": ""
           }
          },
          "colorscale": {
           "diverging": [
            [
             0,
             "#8e0152"
            ],
            [
             0.1,
             "#c51b7d"
            ],
            [
             0.2,
             "#de77ae"
            ],
            [
             0.3,
             "#f1b6da"
            ],
            [
             0.4,
             "#fde0ef"
            ],
            [
             0.5,
             "#f7f7f7"
            ],
            [
             0.6,
             "#e6f5d0"
            ],
            [
             0.7,
             "#b8e186"
            ],
            [
             0.8,
             "#7fbc41"
            ],
            [
             0.9,
             "#4d9221"
            ],
            [
             1,
             "#276419"
            ]
           ],
           "sequential": [
            [
             0,
             "#0d0887"
            ],
            [
             0.1111111111111111,
             "#46039f"
            ],
            [
             0.2222222222222222,
             "#7201a8"
            ],
            [
             0.3333333333333333,
             "#9c179e"
            ],
            [
             0.4444444444444444,
             "#bd3786"
            ],
            [
             0.5555555555555556,
             "#d8576b"
            ],
            [
             0.6666666666666666,
             "#ed7953"
            ],
            [
             0.7777777777777778,
             "#fb9f3a"
            ],
            [
             0.8888888888888888,
             "#fdca26"
            ],
            [
             1,
             "#f0f921"
            ]
           ],
           "sequentialminus": [
            [
             0,
             "#0d0887"
            ],
            [
             0.1111111111111111,
             "#46039f"
            ],
            [
             0.2222222222222222,
             "#7201a8"
            ],
            [
             0.3333333333333333,
             "#9c179e"
            ],
            [
             0.4444444444444444,
             "#bd3786"
            ],
            [
             0.5555555555555556,
             "#d8576b"
            ],
            [
             0.6666666666666666,
             "#ed7953"
            ],
            [
             0.7777777777777778,
             "#fb9f3a"
            ],
            [
             0.8888888888888888,
             "#fdca26"
            ],
            [
             1,
             "#f0f921"
            ]
           ]
          },
          "colorway": [
           "#636efa",
           "#EF553B",
           "#00cc96",
           "#ab63fa",
           "#FFA15A",
           "#19d3f3",
           "#FF6692",
           "#B6E880",
           "#FF97FF",
           "#FECB52"
          ],
          "font": {
           "color": "#2a3f5f"
          },
          "geo": {
           "bgcolor": "white",
           "lakecolor": "white",
           "landcolor": "#E5ECF6",
           "showlakes": true,
           "showland": true,
           "subunitcolor": "white"
          },
          "hoverlabel": {
           "align": "left"
          },
          "hovermode": "closest",
          "mapbox": {
           "style": "light"
          },
          "paper_bgcolor": "white",
          "plot_bgcolor": "#E5ECF6",
          "polar": {
           "angularaxis": {
            "gridcolor": "white",
            "linecolor": "white",
            "ticks": ""
           },
           "bgcolor": "#E5ECF6",
           "radialaxis": {
            "gridcolor": "white",
            "linecolor": "white",
            "ticks": ""
           }
          },
          "scene": {
           "xaxis": {
            "backgroundcolor": "#E5ECF6",
            "gridcolor": "white",
            "gridwidth": 2,
            "linecolor": "white",
            "showbackground": true,
            "ticks": "",
            "zerolinecolor": "white"
           },
           "yaxis": {
            "backgroundcolor": "#E5ECF6",
            "gridcolor": "white",
            "gridwidth": 2,
            "linecolor": "white",
            "showbackground": true,
            "ticks": "",
            "zerolinecolor": "white"
           },
           "zaxis": {
            "backgroundcolor": "#E5ECF6",
            "gridcolor": "white",
            "gridwidth": 2,
            "linecolor": "white",
            "showbackground": true,
            "ticks": "",
            "zerolinecolor": "white"
           }
          },
          "shapedefaults": {
           "line": {
            "color": "#2a3f5f"
           }
          },
          "ternary": {
           "aaxis": {
            "gridcolor": "white",
            "linecolor": "white",
            "ticks": ""
           },
           "baxis": {
            "gridcolor": "white",
            "linecolor": "white",
            "ticks": ""
           },
           "bgcolor": "#E5ECF6",
           "caxis": {
            "gridcolor": "white",
            "linecolor": "white",
            "ticks": ""
           }
          },
          "title": {
           "x": 0.05
          },
          "xaxis": {
           "automargin": true,
           "gridcolor": "white",
           "linecolor": "white",
           "ticks": "",
           "title": {
            "standoff": 15
           },
           "zerolinecolor": "white",
           "zerolinewidth": 2
          },
          "yaxis": {
           "automargin": true,
           "gridcolor": "white",
           "linecolor": "white",
           "ticks": "",
           "title": {
            "standoff": 15
           },
           "zerolinecolor": "white",
           "zerolinewidth": 2
          }
         }
        }
       }
      }
     },
     "metadata": {},
     "output_type": "display_data"
    }
   ],
   "source": [
    "import plotly.graph_objects as go\n",
    "\n",
    "def sankey(cat1, cat2, m, treshold=0, h1=[], h2=[]):\n",
    "    all_nodes = cat1 + cat2\n",
    "    source_indices = list(range(len(cat1)))\n",
    "    target_indices = list(range(len(cat1),len(cat1)+len(cat2)))\n",
    "\n",
    "    s, t, v, c = [], [], [], []\n",
    "    for i in range(len(cat1)):\n",
    "        for j in range(len(cat2)):\n",
    "            if m[i,j]>treshold:\n",
    "                s.append(i)\n",
    "                t.append(len(cat1)+j)\n",
    "                v.append(m[i,j])\n",
    "                c.append('pink' if i in h1 or j in h2 else 'lightgray')\n",
    "\n",
    "    fig = go.Figure(data=[go.Sankey(\n",
    "        # Define nodes\n",
    "        node = dict(\n",
    "        pad = 40,\n",
    "        thickness = 40,\n",
    "        line = dict(color = \"black\", width = 1.0),\n",
    "        label =  all_nodes),\n",
    "\n",
    "        # Add links\n",
    "        link = dict(\n",
    "        source =  s,\n",
    "        target =  t,\n",
    "        value =  v,\n",
    "        color = c\n",
    "    ))])\n",
    "    fig.show()\n",
    "\n",
    "sankey(medications,diagnosis,m,500,h2=[0])"
   ]
  },
  {
   "cell_type": "markdown",
   "metadata": {},
   "source": [
    "## Conclusion\n",
    "\n",
    "You have seen that we can use quite simple methods to extract information from non-structured data sources, such as text. In this example, we have taken the existing list of medications, but it would be much more powerful to use natural language processing (NLP) techniques to perform entity extraction from text. In [this blog post](https://soshnikov.com/science/analyzing-medical-papers-with-azure-and-text-analytics-for-health/) we describe how to use cloud services for entity extraction. Another option would be using Python NLP libraries such as [NLTK](https://www.nltk.org/) - an approach for extracting information from text using NLTK is described [here](https://www.nltk.org/book/ch07.html)."
   ]
  },
  {
   "cell_type": "markdown",
   "metadata": {},
   "source": [
    "## Challenge\n",
    "\n",
    "Continue to research the COVID paper data along the following lines:\n",
    "\n",
    "1. Build co-occurrence matrix of different medications, and see which medications often occur together (i.e. mentioned in one abstract). You can modify the code for building co-occurrence matrix for medications and diagnoses.\n",
    "1. Visualize this matrix using heatmap.\n",
    "1. As a stretch goal, you may want to visualize the co-occurrence of medications using [chord diagram](https://en.wikipedia.org/wiki/Chord_diagram). [This library](https://pypi.org/project/chord/) may help you draw a chord diagram.\n",
    "1. As another stretch goal, try to extract dosages of different medications (such as **400mg** in *take 400mg of chloroquine daily*) using regular expressions, and build dataframe that shows different dosages for different medications. **Note**: consider numeric values that are in close textual vicinity of the medicine name."
   ]
  },
  {
   "cell_type": "markdown",
   "metadata": {},
   "source": [
    "### 1. Co-occurrence matrix of differemt medications"
   ]
  },
  {
   "cell_type": "code",
   "execution_count": 17,
   "metadata": {},
   "outputs": [
    {
     "data": {
      "text/plain": [
       "array([[   0., 1657.,  684., 1224., 1593., 1194.,  284.,  305.,  144.,\n",
       "         545.,  117.],\n",
       "       [1657.,    0.,  219.,  743.,  506.,  655.,  200.,  123.,   34.,\n",
       "         338.,   18.],\n",
       "       [ 684.,  219.,    0.,  594.,  304.,  396.,   89.,  316.,  110.,\n",
       "         216.,  175.],\n",
       "       [1224.,  743.,  594.,    0.,  393.,  911.,  246.,  821.,  147.,\n",
       "         680.,  100.],\n",
       "       [1593.,  506.,  304.,  393.,    0.,  449.,  106.,  188.,   93.,\n",
       "         196.,   89.],\n",
       "       [1194.,  655.,  396.,  911.,  449.,    0.,  547.,  156.,   48.,\n",
       "         455.,   71.],\n",
       "       [ 284.,  200.,   89.,  246.,  106.,  547.,    0.,   45.,   23.,\n",
       "         113.,   16.],\n",
       "       [ 305.,  123.,  316.,  821.,  188.,  156.,   45.,    0.,  142.,\n",
       "         129.,  208.],\n",
       "       [ 144.,   34.,  110.,  147.,   93.,   48.,   23.,  142.,    0.,\n",
       "          49.,   57.],\n",
       "       [ 545.,  338.,  216.,  680.,  196.,  455.,  113.,  129.,   49.,\n",
       "           0.,   42.],\n",
       "       [ 117.,   18.,  175.,  100.,   89.,   71.,   16.,  208.,   57.,\n",
       "          42.,    0.]])"
      ]
     },
     "execution_count": 17,
     "metadata": {},
     "output_type": "execute_result"
    }
   ],
   "source": [
    "m = np.zeros((len(medications),len(medications)))\n",
    "for a in df['abstract']:\n",
    "    x = str(a).lower()\n",
    "    for i,d in enumerate(medications):\n",
    "        if ' '+d in x:\n",
    "            for j,me in enumerate(medications):\n",
    "                if i != j and ' '+me in x:\n",
    "                    m[j,i] += 1\n",
    "\n",
    "m"
   ]
  },
  {
   "cell_type": "markdown",
   "metadata": {},
   "source": [
    "### 2. Visualize this matrix using heatmap."
   ]
  },
  {
   "cell_type": "code",
   "execution_count": 18,
   "metadata": {},
   "outputs": [
    {
     "data": {
      "image/png": "[encoded data removed]",
      "text/plain": [
       "<Figure size 640x480 with 1 Axes>"
      ]
     },
     "metadata": {},
     "output_type": "display_data"
    }
   ],
   "source": [
    "plt.imshow(m,interpolation='nearest',cmap='hot')\n",
    "ax = plt.gca()\n",
    "ax.set_yticks(range(len(medications))) \n",
    "ax.set_yticklabels(medications)\n",
    "ax.set_xticks(range(len(medications)))\n",
    "ax.set_xticklabels(medications,rotation=90)\n",
    "plt.show()"
   ]
  },
  {
   "cell_type": "markdown",
   "metadata": {},
   "source": [
    "### 3. Visualize the co-occurrence of medications using chord diagram"
   ]
  },
  {
   "cell_type": "code",
   "execution_count": 19,
   "metadata": {},
   "outputs": [
    {
     "ename": "Exception",
     "evalue": "{'reason': 'Authentication failed. Please check your license details or get one from https://plotapi.com.'}",
     "output_type": "error",
     "traceback": [
      "\u001b[1;31m---------------------------------------------------------------------------\u001b[0m",
      "\u001b[1;31mException\u001b[0m                                 Traceback (most recent call last)",
      "Cell \u001b[1;32mIn[19], line 4\u001b[0m\n\u001b[0;32m      1\u001b[0m \u001b[39mfrom\u001b[39;00m \u001b[39mplotapi\u001b[39;00m \u001b[39mimport\u001b[39;00m Chord\n\u001b[0;32m      2\u001b[0m m \u001b[39m=\u001b[39m m\u001b[39m.\u001b[39mtolist()\n\u001b[1;32m----> 4\u001b[0m Chord(m, medications)\u001b[39m.\u001b[39;49mshow()\n",
      "File \u001b[1;32mc:\\Users\\magsa\\anaconda3\\envs\\testenv\\Lib\\site-packages\\plotapi\\__init__.py:218\u001b[0m, in \u001b[0;36mVisualisation.show\u001b[1;34m(self)\u001b[0m\n\u001b[0;32m    215\u001b[0m \u001b[39m\u001b[39m\u001b[39m\"\"\"Outputs the generated HTML to a Jupyter Lab output cell.\"\"\"\u001b[39;00m\n\u001b[0;32m    216\u001b[0m \u001b[39mfrom\u001b[39;00m \u001b[39mIPython\u001b[39;00m\u001b[39m.\u001b[39;00m\u001b[39mdisplay\u001b[39;00m \u001b[39mimport\u001b[39;00m HTML, display\n\u001b[1;32m--> 218\u001b[0m html \u001b[39m=\u001b[39m \u001b[39mself\u001b[39;49m\u001b[39m.\u001b[39;49mget_html()\n\u001b[0;32m    219\u001b[0m display(HTML(html))\n",
      "File \u001b[1;32mc:\\Users\\magsa\\anaconda3\\envs\\testenv\\Lib\\site-packages\\plotapi\\__init__.py:92\u001b[0m, in \u001b[0;36mVisualisation.get_html\u001b[1;34m(self)\u001b[0m\n\u001b[0;32m     90\u001b[0m \u001b[39melse\u001b[39;00m:\n\u001b[0;32m     91\u001b[0m     detail \u001b[39m=\u001b[39m json\u001b[39m.\u001b[39mloads(result\u001b[39m.\u001b[39mcontent\u001b[39m.\u001b[39mdecode(\u001b[39m\"\u001b[39m\u001b[39mutf8\u001b[39m\u001b[39m\"\u001b[39m))\n\u001b[1;32m---> 92\u001b[0m     \u001b[39mraise\u001b[39;00m \u001b[39mException\u001b[39;00m(detail)\n",
      "\u001b[1;31mException\u001b[0m: {'reason': 'Authentication failed. Please check your license details or get one from https://plotapi.com.'}"
     ]
    }
   ],
   "source": [
    "from plotapi import Chord\n",
    "m = m.tolist()\n",
    "\n",
    "Chord(m, medications).show()"
   ]
  },
  {
   "cell_type": "markdown",
   "metadata": {},
   "source": [
    "Since the chord digram require payment I decided to use the sankey diagram instead."
   ]
  },
  {
   "cell_type": "code",
   "execution_count": 77,
   "metadata": {},
   "outputs": [
    {
     "data": {
      "application/vnd.plotly.v1+json": {
       "config": {
        "plotlyServerURL": "https://plot.ly"
       },
       "data": [
        {
         "link": {
          "color": [
           "lightgray",
           "lightgray",
           "lightgray",
           "lightgray",
           "lightgray",
           "lightgray",
           "lightgray",
           "lightgray",
           "lightgray",
           "lightgray",
           "pink",
           "lightgray",
           "lightgray",
           "lightgray",
           "lightgray",
           "lightgray",
           "lightgray",
           "lightgray",
           "lightgray",
           "lightgray",
           "pink",
           "lightgray",
           "lightgray",
           "lightgray",
           "lightgray",
           "lightgray",
           "lightgray",
           "lightgray",
           "lightgray",
           "lightgray",
           "pink",
           "lightgray",
           "lightgray",
           "lightgray",
           "lightgray",
           "lightgray",
           "lightgray",
           "lightgray",
           "lightgray",
           "lightgray",
           "pink",
           "lightgray",
           "lightgray",
           "lightgray",
           "lightgray",
           "lightgray",
           "lightgray",
           "lightgray",
           "lightgray",
           "lightgray",
           "pink",
           "lightgray",
           "lightgray",
           "lightgray",
           "lightgray",
           "lightgray",
           "lightgray",
           "lightgray",
           "lightgray",
           "lightgray",
           "pink",
           "lightgray",
           "lightgray",
           "lightgray",
           "lightgray",
           "lightgray",
           "lightgray",
           "lightgray",
           "lightgray",
           "lightgray",
           "pink",
           "lightgray",
           "lightgray",
           "lightgray",
           "lightgray",
           "lightgray",
           "lightgray",
           "lightgray",
           "lightgray",
           "lightgray",
           "pink",
           "lightgray",
           "lightgray",
           "lightgray",
           "lightgray",
           "lightgray",
           "lightgray",
           "lightgray",
           "lightgray",
           "lightgray",
           "pink",
           "lightgray",
           "lightgray",
           "lightgray",
           "lightgray",
           "lightgray",
           "lightgray",
           "lightgray",
           "lightgray",
           "lightgray",
           "pink",
           "lightgray",
           "lightgray",
           "lightgray",
           "lightgray",
           "lightgray",
           "lightgray",
           "lightgray",
           "lightgray",
           "lightgray"
          ],
          "source": [
           0,
           0,
           0,
           0,
           0,
           0,
           0,
           0,
           0,
           0,
           1,
           1,
           1,
           1,
           1,
           1,
           1,
           1,
           1,
           1,
           2,
           2,
           2,
           2,
           2,
           2,
           2,
           2,
           2,
           2,
           3,
           3,
           3,
           3,
           3,
           3,
           3,
           3,
           3,
           3,
           4,
           4,
           4,
           4,
           4,
           4,
           4,
           4,
           4,
           4,
           5,
           5,
           5,
           5,
           5,
           5,
           5,
           5,
           5,
           5,
           6,
           6,
           6,
           6,
           6,
           6,
           6,
           6,
           6,
           6,
           7,
           7,
           7,
           7,
           7,
           7,
           7,
           7,
           7,
           7,
           8,
           8,
           8,
           8,
           8,
           8,
           8,
           8,
           8,
           8,
           9,
           9,
           9,
           9,
           9,
           9,
           9,
           9,
           9,
           9,
           10,
           10,
           10,
           10,
           10,
           10,
           10,
           10,
           10,
           10
          ],
          "target": [
           12,
           13,
           14,
           15,
           16,
           17,
           18,
           19,
           20,
           21,
           11,
           13,
           14,
           15,
           16,
           17,
           18,
           19,
           20,
           21,
           11,
           12,
           14,
           15,
           16,
           17,
           18,
           19,
           20,
           21,
           11,
           12,
           13,
           15,
           16,
           17,
           18,
           19,
           20,
           21,
           11,
           12,
           13,
           14,
           16,
           17,
           18,
           19,
           20,
           21,
           11,
           12,
           13,
           14,
           15,
           17,
           18,
           19,
           20,
           21,
           11,
           12,
           13,
           14,
           15,
           16,
           18,
           19,
           20,
           21,
           11,
           12,
           13,
           14,
           15,
           16,
           17,
           19,
           20,
           21,
           11,
           12,
           13,
           14,
           15,
           16,
           17,
           18,
           20,
           21,
           11,
           12,
           13,
           14,
           15,
           16,
           17,
           18,
           19,
           21,
           11,
           12,
           13,
           14,
           15,
           16,
           17,
           18,
           19,
           20
          ],
          "value": [
           1657,
           684,
           1224,
           1593,
           1194,
           284,
           305,
           144,
           545,
           117,
           1657,
           219,
           743,
           506,
           655,
           200,
           123,
           34,
           338,
           18,
           684,
           219,
           594,
           304,
           396,
           89,
           316,
           110,
           216,
           175,
           1224,
           743,
           594,
           393,
           911,
           246,
           821,
           147,
           680,
           100,
           1593,
           506,
           304,
           393,
           449,
           106,
           188,
           93,
           196,
           89,
           1194,
           655,
           396,
           911,
           449,
           547,
           156,
           48,
           455,
           71,
           284,
           200,
           89,
           246,
           106,
           547,
           45,
           23,
           113,
           16,
           305,
           123,
           316,
           821,
           188,
           156,
           45,
           142,
           129,
           208,
           144,
           34,
           110,
           147,
           93,
           48,
           23,
           142,
           49,
           57,
           545,
           338,
           216,
           680,
           196,
           455,
           113,
           129,
           49,
           42,
           117,
           18,
           175,
           100,
           89,
           71,
           16,
           208,
           57,
           42
          ]
         },
         "node": {
          "label": [
           "hydroxychloroquine",
           "chloroquine",
           "tocilizumab",
           "remdesivir",
           "azithromycin",
           "lopinavir",
           "ritonavir",
           "dexamethasone",
           "heparin",
           "favipiravir",
           "methylprednisolone",
           "hydroxychloroquine",
           "chloroquine",
           "tocilizumab",
           "remdesivir",
           "azithromycin",
           "lopinavir",
           "ritonavir",
           "dexamethasone",
           "heparin",
           "favipiravir",
           "methylprednisolone"
          ],
          "line": {
           "color": "black",
           "width": 1
          },
          "pad": 40,
          "thickness": 40
         },
         "type": "sankey"
        }
       ],
       "layout": {
        "template": {
         "data": {
          "bar": [
           {
            "error_x": {
             "color": "#2a3f5f"
            },
            "error_y": {
             "color": "#2a3f5f"
            },
            "marker": {
             "line": {
              "color": "#E5ECF6",
              "width": 0.5
             },
             "pattern": {
              "fillmode": "overlay",
              "size": 10,
              "solidity": 0.2
             }
            },
            "type": "bar"
           }
          ],
          "barpolar": [
           {
            "marker": {
             "line": {
              "color": "#E5ECF6",
              "width": 0.5
             },
             "pattern": {
              "fillmode": "overlay",
              "size": 10,
              "solidity": 0.2
             }
            },
            "type": "barpolar"
           }
          ],
          "carpet": [
           {
            "aaxis": {
             "endlinecolor": "#2a3f5f",
             "gridcolor": "white",
             "linecolor": "white",
             "minorgridcolor": "white",
             "startlinecolor": "#2a3f5f"
            },
            "baxis": {
             "endlinecolor": "#2a3f5f",
             "gridcolor": "white",
             "linecolor": "white",
             "minorgridcolor": "white",
             "startlinecolor": "#2a3f5f"
            },
            "type": "carpet"
           }
          ],
          "choropleth": [
           {
            "colorbar": {
             "outlinewidth": 0,
             "ticks": ""
            },
            "type": "choropleth"
           }
          ],
          "contour": [
           {
            "colorbar": {
             "outlinewidth": 0,
             "ticks": ""
            },
            "colorscale": [
             [
              0,
              "#0d0887"
             ],
             [
              0.1111111111111111,
              "#46039f"
             ],
             [
              0.2222222222222222,
              "#7201a8"
             ],
             [
              0.3333333333333333,
              "#9c179e"
             ],
             [
              0.4444444444444444,
              "#bd3786"
             ],
             [
              0.5555555555555556,
              "#d8576b"
             ],
             [
              0.6666666666666666,
              "#ed7953"
             ],
             [
              0.7777777777777778,
              "#fb9f3a"
             ],
             [
              0.8888888888888888,
              "#fdca26"
             ],
             [
              1,
              "#f0f921"
             ]
            ],
            "type": "contour"
           }
          ],
          "contourcarpet": [
           {
            "colorbar": {
             "outlinewidth": 0,
             "ticks": ""
            },
            "type": "contourcarpet"
           }
          ],
          "heatmap": [
           {
            "colorbar": {
             "outlinewidth": 0,
             "ticks": ""
            },
            "colorscale": [
             [
              0,
              "#0d0887"
             ],
             [
              0.1111111111111111,
              "#46039f"
             ],
             [
              0.2222222222222222,
              "#7201a8"
             ],
             [
              0.3333333333333333,
              "#9c179e"
             ],
             [
              0.4444444444444444,
              "#bd3786"
             ],
             [
              0.5555555555555556,
              "#d8576b"
             ],
             [
              0.6666666666666666,
              "#ed7953"
             ],
             [
              0.7777777777777778,
              "#fb9f3a"
             ],
             [
              0.8888888888888888,
              "#fdca26"
             ],
             [
              1,
              "#f0f921"
             ]
            ],
            "type": "heatmap"
           }
          ],
          "heatmapgl": [
           {
            "colorbar": {
             "outlinewidth": 0,
             "ticks": ""
            },
            "colorscale": [
             [
              0,
              "#0d0887"
             ],
             [
              0.1111111111111111,
              "#46039f"
             ],
             [
              0.2222222222222222,
              "#7201a8"
             ],
             [
              0.3333333333333333,
              "#9c179e"
             ],
             [
              0.4444444444444444,
              "#bd3786"
             ],
             [
              0.5555555555555556,
              "#d8576b"
             ],
             [
              0.6666666666666666,
              "#ed7953"
             ],
             [
              0.7777777777777778,
              "#fb9f3a"
             ],
             [
              0.8888888888888888,
              "#fdca26"
             ],
             [
              1,
              "#f0f921"
             ]
            ],
            "type": "heatmapgl"
           }
          ],
          "histogram": [
           {
            "marker": {
             "pattern": {
              "fillmode": "overlay",
              "size": 10,
              "solidity": 0.2
             }
            },
            "type": "histogram"
           }
          ],
          "histogram2d": [
           {
            "colorbar": {
             "outlinewidth": 0,
             "ticks": ""
            },
            "colorscale": [
             [
              0,
              "#0d0887"
             ],
             [
              0.1111111111111111,
              "#46039f"
             ],
             [
              0.2222222222222222,
              "#7201a8"
             ],
             [
              0.3333333333333333,
              "#9c179e"
             ],
             [
              0.4444444444444444,
              "#bd3786"
             ],
             [
              0.5555555555555556,
              "#d8576b"
             ],
             [
              0.6666666666666666,
              "#ed7953"
             ],
             [
              0.7777777777777778,
              "#fb9f3a"
             ],
             [
              0.8888888888888888,
              "#fdca26"
             ],
             [
              1,
              "#f0f921"
             ]
            ],
            "type": "histogram2d"
           }
          ],
          "histogram2dcontour": [
           {
            "colorbar": {
             "outlinewidth": 0,
             "ticks": ""
            },
            "colorscale": [
             [
              0,
              "#0d0887"
             ],
             [
              0.1111111111111111,
              "#46039f"
             ],
             [
              0.2222222222222222,
              "#7201a8"
             ],
             [
              0.3333333333333333,
              "#9c179e"
             ],
             [
              0.4444444444444444,
              "#bd3786"
             ],
             [
              0.5555555555555556,
              "#d8576b"
             ],
             [
              0.6666666666666666,
              "#ed7953"
             ],
             [
              0.7777777777777778,
              "#fb9f3a"
             ],
             [
              0.8888888888888888,
              "#fdca26"
             ],
             [
              1,
              "#f0f921"
             ]
            ],
            "type": "histogram2dcontour"
           }
          ],
          "mesh3d": [
           {
            "colorbar": {
             "outlinewidth": 0,
             "ticks": ""
            },
            "type": "mesh3d"
           }
          ],
          "parcoords": [
           {
            "line": {
             "colorbar": {
              "outlinewidth": 0,
              "ticks": ""
             }
            },
            "type": "parcoords"
           }
          ],
          "pie": [
           {
            "automargin": true,
            "type": "pie"
           }
          ],
          "scatter": [
           {
            "fillpattern": {
             "fillmode": "overlay",
             "size": 10,
             "solidity": 0.2
            },
            "type": "scatter"
           }
          ],
          "scatter3d": [
           {
            "line": {
             "colorbar": {
              "outlinewidth": 0,
              "ticks": ""
             }
            },
            "marker": {
             "colorbar": {
              "outlinewidth": 0,
              "ticks": ""
             }
            },
            "type": "scatter3d"
           }
          ],
          "scattercarpet": [
           {
            "marker": {
             "colorbar": {
              "outlinewidth": 0,
              "ticks": ""
             }
            },
            "type": "scattercarpet"
           }
          ],
          "scattergeo": [
           {
            "marker": {
             "colorbar": {
              "outlinewidth": 0,
              "ticks": ""
             }
            },
            "type": "scattergeo"
           }
          ],
          "scattergl": [
           {
            "marker": {
             "colorbar": {
              "outlinewidth": 0,
              "ticks": ""
             }
            },
            "type": "scattergl"
           }
          ],
          "scattermapbox": [
           {
            "marker": {
             "colorbar": {
              "outlinewidth": 0,
              "ticks": ""
             }
            },
            "type": "scattermapbox"
           }
          ],
          "scatterpolar": [
           {
            "marker": {
             "colorbar": {
              "outlinewidth": 0,
              "ticks": ""
             }
            },
            "type": "scatterpolar"
           }
          ],
          "scatterpolargl": [
           {
            "marker": {
             "colorbar": {
              "outlinewidth": 0,
              "ticks": ""
             }
            },
            "type": "scatterpolargl"
           }
          ],
          "scatterternary": [
           {
            "marker": {
             "colorbar": {
              "outlinewidth": 0,
              "ticks": ""
             }
            },
            "type": "scatterternary"
           }
          ],
          "surface": [
           {
            "colorbar": {
             "outlinewidth": 0,
             "ticks": ""
            },
            "colorscale": [
             [
              0,
              "#0d0887"
             ],
             [
              0.1111111111111111,
              "#46039f"
             ],
             [
              0.2222222222222222,
              "#7201a8"
             ],
             [
              0.3333333333333333,
              "#9c179e"
             ],
             [
              0.4444444444444444,
              "#bd3786"
             ],
             [
              0.5555555555555556,
              "#d8576b"
             ],
             [
              0.6666666666666666,
              "#ed7953"
             ],
             [
              0.7777777777777778,
              "#fb9f3a"
             ],
             [
              0.8888888888888888,
              "#fdca26"
             ],
             [
              1,
              "#f0f921"
             ]
            ],
            "type": "surface"
           }
          ],
          "table": [
           {
            "cells": {
             "fill": {
              "color": "#EBF0F8"
             },
             "line": {
              "color": "white"
             }
            },
            "header": {
             "fill": {
              "color": "#C8D4E3"
             },
             "line": {
              "color": "white"
             }
            },
            "type": "table"
           }
          ]
         },
         "layout": {
          "annotationdefaults": {
           "arrowcolor": "#2a3f5f",
           "arrowhead": 0,
           "arrowwidth": 1
          },
          "autotypenumbers": "strict",
          "coloraxis": {
           "colorbar": {
            "outlinewidth": 0,
            "ticks": ""
           }
          },
          "colorscale": {
           "diverging": [
            [
             0,
             "#8e0152"
            ],
            [
             0.1,
             "#c51b7d"
            ],
            [
             0.2,
             "#de77ae"
            ],
            [
             0.3,
             "#f1b6da"
            ],
            [
             0.4,
             "#fde0ef"
            ],
            [
             0.5,
             "#f7f7f7"
            ],
            [
             0.6,
             "#e6f5d0"
            ],
            [
             0.7,
             "#b8e186"
            ],
            [
             0.8,
             "#7fbc41"
            ],
            [
             0.9,
             "#4d9221"
            ],
            [
             1,
             "#276419"
            ]
           ],
           "sequential": [
            [
             0,
             "#0d0887"
            ],
            [
             0.1111111111111111,
             "#46039f"
            ],
            [
             0.2222222222222222,
             "#7201a8"
            ],
            [
             0.3333333333333333,
             "#9c179e"
            ],
            [
             0.4444444444444444,
             "#bd3786"
            ],
            [
             0.5555555555555556,
             "#d8576b"
            ],
            [
             0.6666666666666666,
             "#ed7953"
            ],
            [
             0.7777777777777778,
             "#fb9f3a"
            ],
            [
             0.8888888888888888,
             "#fdca26"
            ],
            [
             1,
             "#f0f921"
            ]
           ],
           "sequentialminus": [
            [
             0,
             "#0d0887"
            ],
            [
             0.1111111111111111,
             "#46039f"
            ],
            [
             0.2222222222222222,
             "#7201a8"
            ],
            [
             0.3333333333333333,
             "#9c179e"
            ],
            [
             0.4444444444444444,
             "#bd3786"
            ],
            [
             0.5555555555555556,
             "#d8576b"
            ],
            [
             0.6666666666666666,
             "#ed7953"
            ],
            [
             0.7777777777777778,
             "#fb9f3a"
            ],
            [
             0.8888888888888888,
             "#fdca26"
            ],
            [
             1,
             "#f0f921"
            ]
           ]
          },
          "colorway": [
           "#636efa",
           "#EF553B",
           "#00cc96",
           "#ab63fa",
           "#FFA15A",
           "#19d3f3",
           "#FF6692",
           "#B6E880",
           "#FF97FF",
           "#FECB52"
          ],
          "font": {
           "color": "#2a3f5f"
          },
          "geo": {
           "bgcolor": "white",
           "lakecolor": "white",
           "landcolor": "#E5ECF6",
           "showlakes": true,
           "showland": true,
           "subunitcolor": "white"
          },
          "hoverlabel": {
           "align": "left"
          },
          "hovermode": "closest",
          "mapbox": {
           "style": "light"
          },
          "paper_bgcolor": "white",
          "plot_bgcolor": "#E5ECF6",
          "polar": {
           "angularaxis": {
            "gridcolor": "white",
            "linecolor": "white",
            "ticks": ""
           },
           "bgcolor": "#E5ECF6",
           "radialaxis": {
            "gridcolor": "white",
            "linecolor": "white",
            "ticks": ""
           }
          },
          "scene": {
           "xaxis": {
            "backgroundcolor": "#E5ECF6",
            "gridcolor": "white",
            "gridwidth": 2,
            "linecolor": "white",
            "showbackground": true,
            "ticks": "",
            "zerolinecolor": "white"
           },
           "yaxis": {
            "backgroundcolor": "#E5ECF6",
            "gridcolor": "white",
            "gridwidth": 2,
            "linecolor": "white",
            "showbackground": true,
            "ticks": "",
            "zerolinecolor": "white"
           },
           "zaxis": {
            "backgroundcolor": "#E5ECF6",
            "gridcolor": "white",
            "gridwidth": 2,
            "linecolor": "white",
            "showbackground": true,
            "ticks": "",
            "zerolinecolor": "white"
           }
          },
          "shapedefaults": {
           "line": {
            "color": "#2a3f5f"
           }
          },
          "ternary": {
           "aaxis": {
            "gridcolor": "white",
            "linecolor": "white",
            "ticks": ""
           },
           "baxis": {
            "gridcolor": "white",
            "linecolor": "white",
            "ticks": ""
           },
           "bgcolor": "#E5ECF6",
           "caxis": {
            "gridcolor": "white",
            "linecolor": "white",
            "ticks": ""
           }
          },
          "title": {
           "x": 0.05
          },
          "xaxis": {
           "automargin": true,
           "gridcolor": "white",
           "linecolor": "white",
           "ticks": "",
           "title": {
            "standoff": 15
           },
           "zerolinecolor": "white",
           "zerolinewidth": 2
          },
          "yaxis": {
           "automargin": true,
           "gridcolor": "white",
           "linecolor": "white",
           "ticks": "",
           "title": {
            "standoff": 15
           },
           "zerolinecolor": "white",
           "zerolinewidth": 2
          }
         }
        }
       }
      }
     },
     "metadata": {},
     "output_type": "display_data"
    }
   ],
   "source": [
    "sankey(medications, medications, m, h2= [0])"
   ]
  },
  {
   "cell_type": "markdown",
   "metadata": {},
   "source": [
    "### 4. Try to extract dosages of different medications (such as **400mg** in *take 400mg of chloroquine daily*) using regular expressions, and build dataframe that shows different dosages for different medications. \n",
    "**Note**: consider numeric values that are in close textual vicinity of the medicine name."
   ]
  },
  {
   "cell_type": "markdown",
   "metadata": {},
   "source": [
    "This calls a model from **Hugging Face** trained to find dosage and medication etc. called **Med7**. This is more accurate than RegEx but still not perfect at finding the combination of dose and medication. It is also much more computationally expensive than RegEx."
   ]
  },
  {
   "cell_type": "code",
   "execution_count": 152,
   "metadata": {},
   "outputs": [
    {
     "name": "stdout",
     "output_type": "stream",
     "text": [
      "420858                                                                                                                                                                                                                                                                                                                                                                                                                                                                                                                                                                                                                                                                                                                                                                                                                                                                                                                                                                                                                                                                                                                            [{'entity_group': 'DRUG', 'word': 'angiotensin converting enzyme-2 (ACE-2) receptor Hence, drug repurposing strategy is utilized to identify suitable drugs by virtual screening of drug libraries This approach helps to determine the binding interaction of drug candidates', 'start': 1420, 'end': 1655, 'score': 1.0}, {'entity_group': 'DRUG', 'word': 'Remdesivir', 'start': 2350, 'end': 2360, 'score': 1.0}, {'entity_group': 'DRUG', 'word': 'Favipiravir', 'start': 2362, 'end': 2373, 'score': 1.0}, {'entity_group': 'DRUG', 'word': 'Ribavirin', 'start': 2375, 'end': 2384, 'score': 1.0}, {'entity_group': 'DRUG', 'word': 'Baraticinib', 'start': 2386, 'end': 2397, 'score': 1.0}, {'entity_group': 'DRUG', 'word': 'Tocilizumab', 'start': 2399, 'end': 2410, 'score': 1.0}, {'entity_group': 'DRUG', 'word': 'Chloroquine', 'start': 2412, 'end': 2423, 'score': 1.0}, {'entity_group': 'DRUG', 'word': 'Hydroxychloroquine', 'start': 2425, 'end': 2443, 'score': 1.0}, {'entity_group': 'DRUG', 'word': 'Prulifloxacin', 'start': 2445, 'end': 2458, 'score': 1.0}, {'entity_group': 'DRUG', 'word': 'Carfilzomib', 'start': 2460, 'end': 2471, 'score': 1.0}, {'entity_group': 'DRUG', 'word': 'Bictegravir', 'start': 2473, 'end': 2484, 'score': 1.0}, {'entity_group': 'DRUG', 'word': 'Nelfinavir', 'start': 2486, 'end': 2496, 'score': 1.0}, {'entity_group': 'DRUG', 'word': 'Tegobuvir', 'start': 2498, 'end': 2507, 'score': 1.0}, {'entity_group': 'DRUG', 'word': 'Glucocorticoids', 'start': 2512, 'end': 2527, 'score': 1.0}]\n",
      "574206                                                                                                                                                                                                                                                                                                                                                                                                                                                                                                                                                                                                                                                                                                                                                                                                                                                                                                                                                                                                                                                                                                                                                                                                                                                                                                                                                                                                                                                                                                                                                                                                                                                                                                                                                                                                                                                                                                                                                                                                                                                                                                                                                                                                                                                                                                                                                                                                                                                                                                                                                                                                 {'error': 'Model kormilitzin/en_core_med7_trf is currently loading', 'estimated_time': 20.0}\n",
      "887246                                                                                                                                                                                                                                                                                                                                                                                                                                                                                                                                                                                                                                                                                                                                                                                                                                                                                                                                                                                                                                                                                                                                                                                                                                                                                                                                                                                                                                                                                                                                                                                                                                                                                                                                                                                                                                                                                                                                                                                                                                                                                                                                                                                                                                                                                                                                                                                                                                                                                                                                                                                                 {'error': 'Model kormilitzin/en_core_med7_trf is currently loading', 'estimated_time': 20.0}\n",
      "354868                                                                                                                                                                                                                                                                                                                                                                                                                                                                                                                                                                                                                                                                                                                                                                                                                                                                                                                                                                                                                                                                                                                                                                                                                                                                                                                                                                                                                                                                                                                                                                                                                                                                                                                                                                                                                                                                                                                                                                                                                                                                                                                                                                                                                                                                                                                                                                                                                                                                                                                                                                                                 {'error': 'Model kormilitzin/en_core_med7_trf is currently loading', 'estimated_time': 20.0}\n",
      "513451                                                                                                                                                                                                                                                                                                                                                                                                                                                                                                                                                                                                                                                                                                                                                                                                                                                                                                                                                                                                                                                                                                                                                                                                                                                                                                                                                                                                                                                                                                                                                                                                                                                                                                                                                                                                                                                                                                                                                                                                                                                                                                                                                                                                                                                                                                                                                                                                                                                                                                                                                                                                 {'error': 'Model kormilitzin/en_core_med7_trf is currently loading', 'estimated_time': 20.0}\n",
      "657002                                                                                                                                                                                                                                                                                                                                                                                                                                                                                                                                                                                                                                                                                                                                                                                                                                                                                                                                                                                                                                                                                                                                                                                                                                                                                                                                                                                                                                                                                                                                                                                                                                                                                                                                                                                                                                                                                                                                                                                                                                                                                                                                                                                                                                                                                                                                                                                                                                                                                                                                                                                                 {'error': 'Model kormilitzin/en_core_med7_trf is currently loading', 'estimated_time': 20.0}\n",
      "1030473                                                                                                                                                                                                                                                                                                                                                                                                                                                                                                                                                                                                                                                                                                                                                                                                                                                                                                                                                                                                                                                                                                                                                                                                                                                                                                                                                                                                                                                                                                                                                                                                                                                                                                                                                                                                                                                                                                                                                                                                                                                                                                                                                                                                                                                                                                                                                                                                                                                                                                                                                                                                {'error': 'Model kormilitzin/en_core_med7_trf is currently loading', 'estimated_time': 20.0}\n",
      "1022164                                                                                                                                                                                                                                                                                                                                                                                                                                                                                                                                                                                                                                                                                                                                                                                                                                                                                                                                                                                                                                                                                                                                                                                                                                                                                                                                                                                                                                                                                                                                                                                                                                                                                                                                                                                                                                                                                                                                                                                                                                                                                                                                                                                                                                                                                                                                                                                                                                                                                                                                                                                                {'error': 'Model kormilitzin/en_core_med7_trf is currently loading', 'estimated_time': 20.0}\n",
      "871997                                                                                                                                                                                                                                                                                                                                                                                                                                                                                                                                                                                                                                                                                                                                                                                                                                                                                                                                                                                                                                                                                                                                                                                                                                                                                                                                                                                                                                                                                                                                                                                                                                                                                                                                                                                                                                                                                                                                                                                                                                                                                                                                                                                                                                                                                                                                                                                                                                                                                                                                                                                                 {'error': 'Model kormilitzin/en_core_med7_trf is currently loading', 'estimated_time': 20.0}\n",
      "788098                                                                                                                                                                                                                                                                                                                                                                                                                                                                                                                                                                                                                                                                                                                                                                                                                                                                                                                                                                                                                                                                                                                                                                                                                                                                                                                                                                                                                                                                                                                                                                                                                                                                                                                                                                                                                                                                                                                                                                                                                                                                                                                                                                                                                                                                                                                                                                                                                                                                                                                                                                                                 {'error': 'Model kormilitzin/en_core_med7_trf is currently loading', 'estimated_time': 20.0}\n",
      "946031                                                                                                                                                                                                                                                                                                                                                                                                                                                                                                                                                                                                                                                                                                                                                                                                                                                                                                                                                                                                                                                                                                                                                                                                                                                                                                                                                                                                                                                                                                                                                                                                                                                                                                                                                                                                                                                                                                                                                                                                                                                                                                                                                                                                                                                                                                                                                                                                                                                                                                                                                                                                 {'error': 'Model kormilitzin/en_core_med7_trf is currently loading', 'estimated_time': 20.0}\n",
      "343124                                                                                                                                                                                                                                                                                                                                                                                                                                                                                                                                                                                                                                                                                                                                                                                                                                                                                                                                                                                                                                                                                                                                                                                                                                                                                                                                                                                                                                                                                                                                                                                                                                                                                                                                                                                                                                                                                                                                                                                                                                                                                                                                                                                                                                                                                                                                                                                                                                                                                                                                                                                                 {'error': 'Model kormilitzin/en_core_med7_trf is currently loading', 'estimated_time': 20.0}\n",
      "461241                                                                                                                                                                                                                                                                                                                                                                                                                                                                                                                                                                                                                                                                                                                                                                                                                                                                                                                                                                                                                                                                                                                                                                                                                                                                                                                                                                                                                                                                                                                                                                                                                                                                                                                                                                                                                                                                                                                                                                                                                                                                                                                                                                                                                                                                                                                                                                                                                                                                                                                                                                                                 {'error': 'Model kormilitzin/en_core_med7_trf is currently loading', 'estimated_time': 20.0}\n",
      "309681                                                                                                                                                                                                                                                                                                                                                                                                                                                                                                                                                                                                                                                                                                                                                                                                                                                                                                                                                                                                                                                                                                                                                                                                                                                                                                                                                                                                                                                                                                                                                                                                                                                                                                                                                                                                                                                                                                                                                                                                                                                                                                                                                                                                                                                                                                                                                                                                                                                                                                                                                                                                 {'error': 'Model kormilitzin/en_core_med7_trf is currently loading', 'estimated_time': 20.0}\n",
      "1046813                                                                                                                                                                                                                                                                                                                                                                                                                                                                                                                                                                                                                                                                                                                                                                                                                                                                                                                                                                                                                                                                                                                                                                                                                                                                                                                                                                                                                                                                                                                                                                                                                                                                                                                                                                                                                                                                                                                                                                                                                                                                                                                                                                                                                                                                                                                                                                                                                                                                                                                                                                                                {'error': 'Model kormilitzin/en_core_med7_trf is currently loading', 'estimated_time': 20.0}\n",
      "341477                                                                                                                                                                                                                                                                                                                                                                                                                                                                                                                                                                                                                                                                                                                                                                                                                                                                                                                                                                                                                                                                                                                                                                                                                                                                                                                                                                                                                                                                                                                                               [{'entity_group': 'DRUG', 'word': 'Azithromycin', 'start': 114, 'end': 126, 'score': 1.0}, {'entity_group': 'DRUG', 'word': 'hydroxychloroquine', 'start': 148, 'end': 166, 'score': 1.0}, {'entity_group': 'DRUG', 'word': 'chloroquine', 'start': 170, 'end': 181, 'score': 1.0}, {'entity_group': 'DRUG', 'word': 'azithromycin', 'start': 350, 'end': 362, 'score': 1.0}, {'entity_group': 'DRUG', 'word': 'azithromycin', 'start': 457, 'end': 469, 'score': 1.0}, {'entity_group': 'DRUG', 'word': 'antibacterial', 'start': 566, 'end': 579, 'score': 1.0}, {'entity_group': 'DRUG', 'word': 'hydroxychloroquine', 'start': 858, 'end': 876, 'score': 1.0}, {'entity_group': 'DRUG', 'word': 'chloroquine', 'start': 880, 'end': 891, 'score': 1.0}, {'entity_group': 'DRUG', 'word': 'azithromycin', 'start': 897, 'end': 909, 'score': 1.0}, {'entity_group': 'DRUG', 'word': 'azithromycin', 'start': 1069, 'end': 1081, 'score': 1.0}, {'entity_group': 'DRUG', 'word': 'hydroxychloroquine', 'start': 1087, 'end': 1105, 'score': 1.0}, {'entity_group': 'DRUG', 'word': 'chloroquine', 'start': 1109, 'end': 1120, 'score': 1.0}]\n",
      "340233                                                                                                                                                                                                                                                                                                                                                                                                                                                                                                                                                                                                                                                                                                                                                                                                                                                                                                                                                                                                                                                                                                                                                                                                                                                                                                                                                                                                                                                                                                                                                                                                                                                                                                                   [{'entity_group': 'DRUG', 'word': 'Hydroxychloroquine', 'start': 12, 'end': 30, 'score': 1.0}, {'entity_group': 'DRUG', 'word': 'HCQ', 'start': 32, 'end': 35, 'score': 1.0}, {'entity_group': 'DRUG', 'word': 'HCQ', 'start': 382, 'end': 385, 'score': 1.0}, {'entity_group': 'DOSAGE', 'word': 'high-dose', 'start': 586, 'end': 595, 'score': 1.0}, {'entity_group': 'DRUG', 'word': 'HCQ', 'start': 596, 'end': 599, 'score': 1.0}, {'entity_group': 'DURATION', 'word': 'over 5 days', 'start': 615, 'end': 626, 'score': 1.0}, {'entity_group': 'DRUG', 'word': 'HCQ', 'start': 835, 'end': 838, 'score': 1.0}, {'entity_group': 'DOSAGE', 'word': 'high-dose', 'start': 1081, 'end': 1090, 'score': 1.0}, {'entity_group': 'DRUG', 'word': 'HCQ', 'start': 1091, 'end': 1094, 'score': 1.0}, {'entity_group': 'DRUG', 'word': 'HCQ', 'start': 1241, 'end': 1244, 'score': 1.0}, {'entity_group': 'DRUG', 'word': 'HCQ', 'start': 1337, 'end': 1340, 'score': 1.0}]\n",
      "327631                                                                                                                                                                                                                                                                                                                                                                                                                                                                                                                                                                                                                                                                                                                                                                                                                                                                                                                                                                                                                                                                                                                                                                                                                                                                                                                                                                                                                                                                                                                                                                                                                                                                                                                                                                                                                                         [{'entity_group': 'DRUG', 'word': 'chemotherapy', 'start': 749, 'end': 761, 'score': 1.0}, {'entity_group': 'DRUG', 'word': 'hydroxychloroquine', 'start': 1642, 'end': 1660, 'score': 1.0}, {'entity_group': 'DRUG', 'word': 'remdesivir', 'start': 1672, 'end': 1682, 'score': 1.0}, {'entity_group': 'DRUG', 'word': 'tocilizumab', 'start': 1693, 'end': 1704, 'score': 1.0}, {'entity_group': 'DRUG', 'word': 'sarilumab', 'start': 1715, 'end': 1724, 'score': 1.0}, {'entity_group': 'DRUG', 'word': 'methylprednisolone', 'start': 1745, 'end': 1763, 'score': 1.0}, {'entity_group': 'STRENGTH', 'word': '0', 'start': 1764, 'end': 1765, 'score': 1.0}, {'entity_group': 'STRENGTH', 'word': '5mg/kg', 'start': 1766, 'end': 1772, 'score': 1.0}, {'entity_group': 'FREQUENCY', 'word': 'Q12h', 'start': 1773, 'end': 1777, 'score': 1.0}]\n",
      "468146                                                                                                                                                                                                                                                                                                                                                                                                                                                                                                                                                                                                                                                                                                                                                                                                                                                                                                                                                                                                                                                                                                                                                                                                                                                                                                                                                                           [{'entity_group': 'DRUG', 'word': 'hydroxychloroquine', 'start': 298, 'end': 316, 'score': 1.0}, {'entity_group': 'DRUG', 'word': 'azithromycin', 'start': 355, 'end': 367, 'score': 1.0}, {'entity_group': 'DRUG', 'word': 'hydroxychloroquine', 'start': 1067, 'end': 1085, 'score': 1.0}, {'entity_group': 'DRUG', 'word': 'hydroxychloroquine', 'start': 1093, 'end': 1111, 'score': 1.0}, {'entity_group': 'DRUG', 'word': 'azithromycin', 'start': 1132, 'end': 1144, 'score': 1.0}, {'entity_group': 'DRUG', 'word': 'azithromycin', 'start': 1146, 'end': 1158, 'score': 1.0}, {'entity_group': 'DRUG', 'word': 'hydroxychloroquine+azithromycin', 'start': 1542, 'end': 1573, 'score': 1.0}, {'entity_group': 'DRUG', 'word': 'hydroxychloroquine', 'start': 1614, 'end': 1632, 'score': 1.0}, {'entity_group': 'DRUG', 'word': 'azithromycin', 'start': 1680, 'end': 1692, 'score': 1.0}, {'entity_group': 'DRUG', 'word': 'Hydroxychloroquine', 'start': 2197, 'end': 2215, 'score': 1.0}, {'entity_group': 'DRUG', 'word': 'hydroxychloroquine+azithromycin', 'start': 2259, 'end': 2290, 'score': 1.0}, {'entity_group': 'DRUG', 'word': 'hydroxychloroquine', 'start': 2457, 'end': 2475, 'score': 1.0}, {'entity_group': 'DRUG', 'word': 'azithromycin', 'start': 2506, 'end': 2518, 'score': 1.0}]\n",
      "357832                                                                                                                                                                                                                                                                                                                                                                                                                                                                                                                                                                                                                                                                                                                                                                                                                                                                                                                                                                                                                                                                                                                                                                                                                                                                                                                                                                                                                                                                                                                                                                                                                                                                                                                                                                                                                                                                                                                                    [{'entity_group': 'DRUG', 'word': 'quinolinic', 'start': 4, 'end': 14, 'score': 1.0}, {'entity_group': 'DRUG', 'word': 'anti-inflammatory', 'start': 432, 'end': 449, 'score': 1.0}, {'entity_group': 'DRUG', 'word': 'anti-rheumatic', 'start': 465, 'end': 479, 'score': 1.0}, {'entity_group': 'DRUG', 'word': 'antimalarial drugs', 'start': 732, 'end': 750, 'score': 1.0}, {'entity_group': 'DRUG', 'word': 'quinoline', 'start': 766, 'end': 775, 'score': 1.0}, {'entity_group': 'DRUG', 'word': 'hydroxychloroquine', 'start': 818, 'end': 836, 'score': 1.0}, {'entity_group': 'DRUG', 'word': 'chloroquine', 'start': 841, 'end': 852, 'score': 1.0}, {'entity_group': 'DRUG', 'word': 'quinolinic', 'start': 990, 'end': 1000, 'score': 1.0}]\n",
      "196537                                                                                                                                                                                                                                                                                                                                                                                                                                                                                                                                                                                                                                                                                                                                                                                                                                                                                                                                                                                                                                                                                                                                                                                                                                                                                                                                                                                                                                                                                                                                                                                                                                                                                                                                                                                                                                                                                                                                                                                                                                                                                                                                                                                                                                                                                                                                                                                                                                                                                                [{'entity_group': 'DRUG', 'word': 'hydroxychloroquine', 'start': 1607, 'end': 1625, 'score': 1.0}, {'entity_group': 'DRUG', 'word': 'favipiravir', 'start': 1630, 'end': 1641, 'score': 1.0}]\n",
      "932010                                                                                                                                                                                                                                                                                                                                                                                                                                                                                                                                                                                                                                                                                                                                                                                                                                                                                                                                                                                                                                                                                                                                                                                                                                                                                                                                                                                                                                                                                                                                                                                                                                                                                                                                                                                              [{'entity_group': 'DRUG', 'word': 'hydroxychloroquine', 'start': 42, 'end': 60, 'score': 1.0}, {'entity_group': 'DRUG', 'word': 'HCQ', 'start': 62, 'end': 65, 'score': 1.0}, {'entity_group': 'DRUG', 'word': 'azithromycin', 'start': 71, 'end': 83, 'score': 1.0}, {'entity_group': 'DRUG', 'word': 'HCQ', 'start': 404, 'end': 407, 'score': 1.0}, {'entity_group': 'DRUG', 'word': 'HCQ', 'start': 639, 'end': 642, 'score': 1.0}, {'entity_group': 'DRUG', 'word': 'azithromycin', 'start': 677, 'end': 689, 'score': 1.0}, {'entity_group': 'DRUG', 'word': 'HCQ', 'start': 1138, 'end': 1141, 'score': 1.0}, {'entity_group': 'DRUG', 'word': 'azithromycin', 'start': 1144, 'end': 1156, 'score': 1.0}, {'entity_group': 'DRUG', 'word': 'HCQ', 'start': 1341, 'end': 1344, 'score': 1.0}, {'entity_group': 'DRUG', 'word': 'azithromycin', 'start': 1349, 'end': 1361, 'score': 1.0}]\n",
      "611991                                                                                                                                                                                                                                                                                                                                                                                                                                                                                                                                                                                                                                                                                                                                                                                                                                                                                                                                                                                                                                                                                                                                                                      [{'entity_group': 'DRUG', 'word': 'remdesivir', 'start': 455, 'end': 465, 'score': 1.0}, {'entity_group': 'DRUG', 'word': 'chloroquine', 'start': 512, 'end': 523, 'score': 1.0}, {'entity_group': 'DRUG', 'word': 'hydroxychloroquine', 'start': 528, 'end': 546, 'score': 1.0}, {'entity_group': 'DRUG', 'word': 'tocilizumab', 'start': 548, 'end': 559, 'score': 1.0}, {'entity_group': 'DRUG', 'word': 'favipiravir', 'start': 582, 'end': 593, 'score': 1.0}, {'entity_group': 'DRUG', 'word': 'azithromycin', 'start': 624, 'end': 636, 'score': 1.0}, {'entity_group': 'DRUG', 'word': 'vitamin C', 'start': 638, 'end': 647, 'score': 1.0}, {'entity_group': 'DRUG', 'word': 'corticosteroids', 'start': 649, 'end': 664, 'score': 1.0}, {'entity_group': 'DRUG', 'word': 'interferon', 'start': 666, 'end': 676, 'score': 1.0}, {'entity_group': 'DRUG', 'word': 'colchicine', 'start': 682, 'end': 692, 'score': 1.0}, {'entity_group': 'DRUG', 'word': 'psychotropics', 'start': 800, 'end': 813, 'score': 1.0}, {'entity_group': 'DRUG', 'word': 'psychotropics', 'start': 1163, 'end': 1176, 'score': 1.0}, {'entity_group': 'DRUG', 'word': 'psychotropic medications', 'start': 1439, 'end': 1463, 'score': 1.0}, {'entity_group': 'DRUG', 'word': 'psychotropic', 'start': 1492, 'end': 1504, 'score': 1.0}, {'entity_group': 'DRUG', 'word': 'psychotropics', 'start': 1660, 'end': 1673, 'score': 1.0}, {'entity_group': 'DRUG', 'word': 'psychotropics', 'start': 1746, 'end': 1759, 'score': 1.0}]\n",
      "972860                                                                                                                                                                                                                                                                                                                                                                                                                                                                                                                                                                                                                                                                                                                                                                                                                                                                                                                                                                                                                                                                                                                                                                                                                                                                                                                                                                                                                                                                                                                                                                                                                                                                                                                                                                                                                                                                                                                                                                                                                                                                                                                                                                                                                                                                                                                                                                                       [{'entity_group': 'DRUG', 'word': 'antimalarial and antiviral drugs', 'start': 492, 'end': 524, 'score': 1.0}, {'entity_group': 'DRUG', 'word': 'hydroxychloroquine', 'start': 533, 'end': 551, 'score': 1.0}, {'entity_group': 'DRUG', 'word': 'remdesivir', 'start': 556, 'end': 566, 'score': 1.0}]\n",
      "961706                                                                                                                                                                                                                                                                                                                                                                                                                                                                                                                                                                                                                                                                                                                                                                                                                                                                                                                                                                                                                                                                                                                                                                                                                                                                                                                                                                                                                                                                                                                                                                                                                                                                                                                                                                                                                                                                                                                                                                                                                                                                                                                                                                                                                                                                                                                                                                                                       [{'entity_group': 'DRUG', 'word': 'Hydroxychloroquine', 'start': 672, 'end': 690, 'score': 1.0}, {'entity_group': 'DRUG', 'word': 'tocilizumab', 'start': 809, 'end': 820, 'score': 1.0}, {'entity_group': 'DRUG', 'word': 'corticosteroids', 'start': 825, 'end': 840, 'score': 1.0}]\n",
      "1039458                                                                                                                                                                                                                                                                                                                                                                                                                                                                                                                                                                                                                                                                                                                                                                                                                                                                                                                                                                                                                                                                                                                                                                                                                                                                                                                                                                                                                                                                                                                                                      [{'entity_group': 'DRUG', 'word': 'chloroquine', 'start': 34, 'end': 45, 'score': 1.0}, {'entity_group': 'DRUG', 'word': 'CQ', 'start': 47, 'end': 49, 'score': 1.0}, {'entity_group': 'DRUG', 'word': 'hydroxychloroquine', 'start': 203, 'end': 221, 'score': 1.0}, {'entity_group': 'DRUG', 'word': 'HCQ', 'start': 223, 'end': 226, 'score': 1.0}, {'entity_group': 'DURATION', 'word': '5-day', 'start': 539, 'end': 544, 'score': 1.0}, {'entity_group': 'DRUG', 'word': 'HCQ', 'start': 545, 'end': 548, 'score': 1.0}, {'entity_group': 'STRENGTH', 'word': '400 mg/d', 'start': 550, 'end': 558, 'score': 1.0}, {'entity_group': 'DRUG', 'word': 'HCQ', 'start': 735, 'end': 738, 'score': 1.0}, {'entity_group': 'DRUG', 'word': 'HCQ', 'start': 961, 'end': 964, 'score': 1.0}, {'entity_group': 'DRUG', 'word': 'HCQ', 'start': 1086, 'end': 1089, 'score': 1.0}, {'entity_group': 'DRUG', 'word': 'HCQ', 'start': 1179, 'end': 1182, 'score': 1.0}, {'entity_group': 'DRUG', 'word': 'HCQ', 'start': 1423, 'end': 1426, 'score': 1.0}, {'entity_group': 'DRUG', 'word': 'HCQ', 'start': 1499, 'end': 1502, 'score': 1.0}]\n",
      "562392                                                                                                                                                                                                                                                                                                                                                                                                                                                                                                                                                                                                                                                                                                                                                                                                                                                                                                                                                                                                                                                                                                                                                                                                                                                                                                                                                                                                                                                                                                                                                                                                                                                                                                                                                                                                                                                                                                                                                                                                                                              [{'entity_group': 'DRUG', 'word': 'hydroxychloroquine', 'start': 756, 'end': 774, 'score': 1.0}, {'entity_group': 'DRUG', 'word': 'levofloxacin', 'start': 776, 'end': 788, 'score': 1.0}, {'entity_group': 'ROUTE', 'word': 'IV', 'start': 794, 'end': 796, 'score': 1.0}, {'entity_group': 'DRUG', 'word': 'fluids', 'start': 797, 'end': 803, 'score': 1.0}, {'entity_group': 'DRUG', 'word': 'vasopressors', 'start': 866, 'end': 878, 'score': 1.0}, {'entity_group': 'DRUG', 'word': 'potassium binders', 'start': 928, 'end': 945, 'score': 1.0}, {'entity_group': 'DRUG', 'word': 'heparin', 'start': 1178, 'end': 1185, 'score': 1.0}]\n",
      "444566                                                                                                                                                                                                                                                                                                                                                                                                                                                                                                                                                                                                                                                                                                                                                                                                                                                                                                                                                                                                                                                                                                                                                                                                                                                                                                                                                                                                                                                                                                                                                                                                                                                                                                                                                                                                                             [{'entity_group': 'DRUG', 'word': 'crystalloid', 'start': 575, 'end': 586, 'score': 1.0}, {'entity_group': 'FORM', 'word': 'infusion', 'start': 587, 'end': 595, 'score': 1.0}, {'entity_group': 'DRUG', 'word': 'broad-spectrum antibiotics', 'start': 597, 'end': 623, 'score': 1.0}, {'entity_group': 'DRUG', 'word': 'hydroxychloroquine', 'start': 625, 'end': 643, 'score': 1.0}, {'entity_group': 'DRUG', 'word': 'insulin-dextrose', 'start': 645, 'end': 661, 'score': 1.0}, {'entity_group': 'DRUG', 'word': 'calcium gluconate', 'start': 663, 'end': 680, 'score': 1.0}, {'entity_group': 'DRUG', 'word': 'sodium bicarbonate', 'start': 682, 'end': 700, 'score': 1.0}, {'entity_group': 'ROUTE', 'word': 'i.v', 'start': 706, 'end': 709, 'score': 1.0}, {'entity_group': 'DRUG', 'word': 'vasopressors', 'start': 711, 'end': 723, 'score': 1.0}]\n",
      "133152                                                                                                                                                                                                                                                                                                                                                                                                                                                                                                                                                                                                                                                                                                                                                                                                                                                                                                                                                                                                                                                                                                                                                                                                                                                                                                                                                                                                                                                                                                                                                                                                                                                                                                                                                                                                                                                                                                                                                                                                                                                                                                                                                                                                                                                                                                                                                                                                                                                                                                      [{'entity_group': 'DRUG', 'word': 'ibuprofen', 'start': 280, 'end': 289, 'score': 1.0}, {'entity_group': 'DRUG', 'word': 'hydroxychloroquine', 'start': 295, 'end': 313, 'score': 1.0}]\n",
      "980459                                                                                                                                                                                                                                                                                                                                                                                                                                                                                                                                                                                                                                                                                                                                                                                                                                                                                                                                                                                                                                                                                                                                                                                                                                                                                                                                                                                                                                                                                                                                                                                                                                                                                                                                                                                                                                                                                                                                                                                           [{'entity_group': 'DOSAGE', 'word': 'high dose', 'start': 1017, 'end': 1026, 'score': 1.0}, {'entity_group': 'ROUTE', 'word': 'intravenous', 'start': 1027, 'end': 1038, 'score': 1.0}, {'entity_group': 'DRUG', 'word': 'ascorbic acid', 'start': 1039, 'end': 1052, 'score': 1.0}, {'entity_group': 'DRUG', 'word': 'hydroxychloroquine', 'start': 1054, 'end': 1072, 'score': 1.0}, {'entity_group': 'DRUG', 'word': 'anti-interleukin-6 monoclonal antibody', 'start': 1078, 'end': 1116, 'score': 1.0}, {'entity_group': 'DRUG', 'word': 'remdesivir', 'start': 1154, 'end': 1164, 'score': 1.0}, {'entity_group': 'DRUG', 'word': 'vasopressors', 'start': 1247, 'end': 1259, 'score': 1.0}]\n",
      "488354                                                                                                                                                                                                                                                                                                                                                                                                                                                                                                                                                                                                                                                                                                                                                                                                                                                                                                                                                                                                                                                                                                                                                                                                                                                                                                                                                                                                                                                                                                                                                                                                                                                                                                                                                                               [{'entity_group': 'DRUG', 'word': 'hydroxychloroquine', 'start': 105, 'end': 123, 'score': 1.0}, {'entity_group': 'DRUG', 'word': 'HCQ', 'start': 125, 'end': 128, 'score': 1.0}, {'entity_group': 'DRUG', 'word': 'broad-spectrum antiviral', 'start': 140, 'end': 164, 'score': 1.0}, {'entity_group': 'DRUG', 'word': 'remdesivir', 'start': 166, 'end': 176, 'score': 1.0}, {'entity_group': 'DRUG', 'word': 'HCQ', 'start': 452, 'end': 455, 'score': 1.0}, {'entity_group': 'DRUG', 'word': 'remdesivir', 'start': 460, 'end': 470, 'score': 1.0}, {'entity_group': 'DRUG', 'word': 'HCQ', 'start': 566, 'end': 569, 'score': 1.0}, {'entity_group': 'DRUG', 'word': 'remdesivir', 'start': 574, 'end': 584, 'score': 1.0}, {'entity_group': 'DRUG', 'word': 'HCQ', 'start': 1138, 'end': 1141, 'score': 1.0}, {'entity_group': 'DRUG', 'word': 'remdesivir', 'start': 1284, 'end': 1294, 'score': 1.0}]\n",
      "1029083                                                                                                                                                                                                                                                                                                                                                                                                                                                                                                                                                                                                                                                                                                                                                                                                                                                                                                                                                                                                                                                                                                                                                                                                                                                                                                                                                                                                                                                                                                                                                                                                                                                                                                                   [{'entity_group': 'DRUG', 'word': 'hydroxychloroquine', 'start': 1983, 'end': 2001, 'score': 1.0}, {'entity_group': 'DRUG', 'word': 'steroids', 'start': 2009, 'end': 2017, 'score': 1.0}, {'entity_group': 'DRUG', 'word': 'azithromycin', 'start': 2029, 'end': 2041, 'score': 1.0}, {'entity_group': 'DRUG', 'word': 'azacitidine', 'start': 2327, 'end': 2338, 'score': 1.0}, {'entity_group': 'DRUG', 'word': 'venetoclax', 'start': 2351, 'end': 2361, 'score': 1.0}, {'entity_group': 'DRUG', 'word': 'erythropoietin stimulating agents', 'start': 2364, 'end': 2397, 'score': 1.0}, {'entity_group': 'ROUTE', 'word': 'intravenous', 'start': 2429, 'end': 2440, 'score': 1.0}, {'entity_group': 'DRUG', 'word': 'immunoglobulin', 'start': 2441, 'end': 2455, 'score': 1.0}, {'entity_group': 'DRUG', 'word': 'lenalidomide', 'start': 2465, 'end': 2477, 'score': 1.0}, {'entity_group': 'DRUG', 'word': 'Celgene', 'start': 4683, 'end': 4690, 'score': 1.0}]\n",
      "936702                                                                                                                                                                                                                                                                                                                                                                                                                                                                                                                                                                                                                                                                                                                                                                                                                                                                                                                                                                                                                                                                                                                                                                                                                                                                                                                                                                                                                                                                                                                                                                                                                                                                                                                                                                                                                                                                                                                                                                                                                                                                                                                                                                                                                                                                                                                                                                                                         [{'entity_group': 'DRUG', 'word': 'hydroxychloroquine', 'start': 45, 'end': 63, 'score': 1.0}, {'entity_group': 'DRUG', 'word': 'cinchona', 'start': 116, 'end': 124, 'score': 1.0}, {'entity_group': 'DRUG', 'word': 'hydroxychloroquine', 'start': 293, 'end': 311, 'score': 1.0}]\n",
      "372588                                                                                                                                                                                                                                                                                                                                                                                                                                                                                                                                                                                                                                                                                                                                                                                                                                                                                                                                                                                                                                                                                                                                                                                                                                                                                                                                                                                                                                                                                                                                                                                                                                                                                                                                                                                                                                                                                                                                                                                                                                                                                                                                                                                                                                                                                                                                                                                        [{'entity_group': 'DRUG', 'word': 'hydroxychloroquine', 'start': 1268, 'end': 1286, 'score': 1.0}, {'entity_group': 'DRUG', 'word': 'remdesivir', 'start': 1294, 'end': 1304, 'score': 1.0}, {'entity_group': 'DRUG', 'word': 'interleukin-6 antagonists', 'start': 1316, 'end': 1341, 'score': 1.0}]\n",
      "906988                                                                                                                                                                                                                                                                                                                                                                                                                                                                                                                                                                                                                                                                                                                                                                                                                                                                                                                                                                                                                                                                                                                                                                                                                                                                                                                                                                                                                                                                                                                                                                                                                                                                                                                                                                                                                                                                                                                                                                                                                                                                                                                                                                                                                                                                                                                                                                                               [{'entity_group': 'DRUG', 'word': 'mannose binding lectin', 'start': 378, 'end': 400, 'score': 1.0}, {'entity_group': 'DRUG', 'word': 'azithromycin', 'start': 851, 'end': 863, 'score': 1.0}, {'entity_group': 'DRUG', 'word': 'hydroxychloroquine', 'start': 868, 'end': 886, 'score': 1.0}]\n",
      "422549                                                                                                                                                                                                                                                                                                                                                                                                                                                                                                                                                                                                                                                                                                                                                                                                                                                                                                                                                                                                                                                                                                                                                                                                                                                                                                                                                                                                                                                                                                                                                                                                                                                                                                                                                                                                                                                                                                                                                                                                                                                                                                                                                                                                                                                                                                                                                                                                      [{'entity_group': 'DRUG', 'word': 'chloroquine', 'start': 1115, 'end': 1126, 'score': 1.0}, {'entity_group': 'DRUG', 'word': 'hydroxychloroquine', 'start': 1146, 'end': 1164, 'score': 1.0}, {'entity_group': 'DRUG', 'word': 'remdesivir', 'start': 1187, 'end': 1197, 'score': 1.0}]\n",
      "597002                                                                                                                                                                                                                                                                                                                                                                                                                                                                                                                                                                                                                                                                                                                                                                                                                                                                                                                                                                                                                                                                                                                                                                                                                                                                                                                                                                                                                                                                                                                                                                                                                                                                                                                                                                                                                                                                                                                                                                                                                                                                                           [{'entity_group': 'DRUG', 'word': 'hydroxychloroquine', 'start': 68, 'end': 86, 'score': 1.0}, {'entity_group': 'DRUG', 'word': 'hydroxychloroquine', 'start': 137, 'end': 155, 'score': 1.0}, {'entity_group': 'DRUG', 'word': 'hydroxychloroquine', 'start': 308, 'end': 326, 'score': 1.0}, {'entity_group': 'DRUG', 'word': 'hydroxychloroquine', 'start': 817, 'end': 835, 'score': 1.0}, {'entity_group': 'DRUG', 'word': 'hydroxychloroquine', 'start': 1483, 'end': 1501, 'score': 1.0}, {'entity_group': 'DRUG', 'word': 'hydroxychloroquine', 'start': 1952, 'end': 1970, 'score': 1.0}]\n",
      "644054                                                                                                                                                                                                                                                                                                                                                                                                                                                                                                                                                                                                                                                                                                                                                                                                                                                                                                                                                                                                                                                                                                                                                                                                                                                                                                                                                                                                                                                                                                                        [{'entity_group': 'DRUG', 'word': 'remdesivir', 'start': 37, 'end': 47, 'score': 1.0}, {'entity_group': 'DRUG', 'word': 'RDV', 'start': 341, 'end': 344, 'score': 1.0}, {'entity_group': 'DURATION', 'word': 'for 5 days', 'start': 345, 'end': 355, 'score': 1.0}, {'entity_group': 'DURATION', 'word': '10 days', 'start': 367, 'end': 374, 'score': 1.0}, {'entity_group': 'DRUG', 'word': 'RDV', 'start': 418, 'end': 421, 'score': 1.0}, {'entity_group': 'DRUG', 'word': 'RDV', 'start': 585, 'end': 588, 'score': 1.0}, {'entity_group': 'DURATION', 'word': 'for only 5 days', 'start': 589, 'end': 604, 'score': 1.0}, {'entity_group': 'DRUG', 'word': 'lopinavir', 'start': 844, 'end': 853, 'score': 1.0}, {'entity_group': 'DRUG', 'word': 'ritonavir', 'start': 854, 'end': 863, 'score': 1.0}, {'entity_group': 'DRUG', 'word': 'hydroxychloroquine', 'start': 868, 'end': 886, 'score': 1.0}, {'entity_group': 'DRUG', 'word': 'RDV', 'start': 913, 'end': 916, 'score': 1.0}, {'entity_group': 'DRUG', 'word': 'oxygen', 'start': 953, 'end': 959, 'score': 1.0}, {'entity_group': 'DRUG', 'word': 'RDV', 'start': 1379, 'end': 1382, 'score': 1.0}]\n",
      "665074                                                                                                                                                                                                                                                                                                                                                                                                                                                                                                                                                                                                                                                                                                                                                                                                                                                                                                                                                                                                                                                                                                                                                                                                                                                                                                                                                                                                                                                                                                                                                                                                                                                                                                                                                                                                                                                                                                                                                                                                                                                                                                                                                                                                                                                                                                                                                                                                                                                                                                                                                                                             [{'entity_group': 'DRUG', 'word': 'hydroxychloroquine', 'start': 500, 'end': 518, 'score': 1.0}]\n",
      "548679                                                                                                                                                                                                                                                                                                                                                                                                                                                                                                                                                                                                                                                                                                                                                                                                                                                                                                                                                                                                                                                                                                                                                                                                                                                                                                                                                                                                                                                                                                                                                                                                                                                                                                                                                                                                                                                                                                                                                                                                                                                                                                     [{'entity_group': 'DRUG', 'word': 'rituximab', 'start': 761, 'end': 770, 'score': 1.0}, {'entity_group': 'DRUG', 'word': 'systemic immunoglobulins', 'start': 896, 'end': 920, 'score': 1.0}, {'entity_group': 'DRUG', 'word': 'doxycycline', 'start': 922, 'end': 933, 'score': 1.0}, {'entity_group': 'DRUG', 'word': 'calcineurin inhibitors', 'start': 982, 'end': 1004, 'score': 1.0}, {'entity_group': 'DRUG', 'word': 'chloroquine', 'start': 1006, 'end': 1017, 'score': 1.0}, {'entity_group': 'DRUG', 'word': 'hydroxychloroquine', 'start': 1019, 'end': 1037, 'score': 1.0}]\n",
      "348233                                                                                                                                                                                                                                                                                                                                                                                                                                                                                                                                                                                                                                                                                                                                                                                                                                                                                                                                                                                                                                                                                                                                                                                                                                                                                                                                                                                                                                                                                                                                                                                                                                                                                                                                                                                                                                                                                                                                                                                                                                                                                                                                                                                                                                                                                                                                                                                                            [{'entity_group': 'DRUG', 'word': 'hydroxychloroquine', 'start': 277, 'end': 295, 'score': 1.0}, {'entity_group': 'DRUG', 'word': 'remdesivir', 'start': 375, 'end': 385, 'score': 1.0}, {'entity_group': 'DRUG', 'word': 'tocilizumab', 'start': 427, 'end': 438, 'score': 1.0}]\n",
      "1033441    [{'entity_group': 'DRUG', 'word': 'Lopinavir', 'start': 12, 'end': 21, 'score': 1.0}, {'entity_group': 'DRUG', 'word': 'hydroxychloroquine', 'start': 82, 'end': 100, 'score': 1.0}, {'entity_group': 'DRUG', 'word': 'lopinavir', 'start': 220, 'end': 229, 'score': 1.0}, {'entity_group': 'DRUG', 'word': 'hydroxychloroquine', 'start': 274, 'end': 292, 'score': 1.0}, {'entity_group': 'DRUG', 'word': 'remdesivir', 'start': 296, 'end': 306, 'score': 1.0}, {'entity_group': 'DRUG', 'word': 'oxygen', 'start': 543, 'end': 549, 'score': 1.0}, {'entity_group': 'STRENGTH', 'word': '400 mg', 'start': 654, 'end': 660, 'score': 1.0}, {'entity_group': 'DRUG', 'word': 'lopinavir', 'start': 661, 'end': 670, 'score': 1.0}, {'entity_group': 'STRENGTH', 'word': '100 mg', 'start': 675, 'end': 681, 'score': 1.0}, {'entity_group': 'DRUG', 'word': 'ritonavir', 'start': 682, 'end': 691, 'score': 1.0}, {'entity_group': 'FREQUENCY', 'word': 'every 12h', 'start': 692, 'end': 701, 'score': 1.0}, {'entity_group': 'DURATION', 'word': 'for 14 days', 'start': 702, 'end': 713, 'score': 1.0}, {'entity_group': 'DRUG', 'word': 'IFN-beta-1a (44 micrograms', 'start': 750, 'end': 776, 'score': 1.0}, {'entity_group': 'ROUTE', 'word': 'subcutaneous', 'start': 780, 'end': 792, 'score': 1.0}, {'entity_group': 'DRUG', 'word': 'hydroxychloroquine', 'start': 836, 'end': 854, 'score': 1.0}, {'entity_group': 'STRENGTH', 'word': '400 mg', 'start': 856, 'end': 862, 'score': 1.0}, {'entity_group': 'STRENGTH', 'word': '400 mg', 'start': 883, 'end': 889, 'score': 1.0}, {'entity_group': 'FREQUENCY', 'word': 'once daily', 'start': 890, 'end': 900, 'score': 1.0}, {'entity_group': 'DURATION', 'word': 'for 9 days', 'start': 901, 'end': 911, 'score': 1.0}, {'entity_group': 'DRUG', 'word': 'remdesivir', 'start': 925, 'end': 935, 'score': 1.0}, {'entity_group': 'STRENGTH', 'word': '200 mg', 'start': 937, 'end': 943, 'score': 1.0}, {'entity_group': 'ROUTE', 'word': 'intravenously', 'start': 944, 'end': 957, 'score': 1.0}, {'entity_group': 'STRENGTH', 'word': '100 mg', 'start': 972, 'end': 978, 'score': 1.0}, {'entity_group': 'FREQUENCY', 'word': 'once-daily', 'start': 979, 'end': 989, 'score': 1.0}, {'entity_group': 'DURATION', 'word': 'for hospitalization duration or 10 days', 'start': 990, 'end': 1029, 'score': 1.0}, {'entity_group': 'DRUG', 'word': 'lopinavir', 'start': 1362, 'end': 1371, 'score': 1.0}, {'entity_group': 'DRUG', 'word': 'hydroxychloroquine', 'start': 1524, 'end': 1542, 'score': 1.0}, {'entity_group': 'DRUG', 'word': 'anti-inflammatory agents', 'start': 1813, 'end': 1837, 'score': 1.0}]\n",
      "579258                                                                                                                                                                                                                                                                                                                                                                                                                                                                                                                                                                                                                                                                                                                                                                                                                                                                                                                                                                                                                                                                                                                                                                                                                                                                                                                                                                                                                                                                                                                                                                                                                                                                                                                                                                                                                                                                                                                                                                                                                                                                                                                                                                                                                                                                                                                                                                                                                                                                                                                                                                                             [{'entity_group': 'DRUG', 'word': 'hydroxychloroquine', 'start': 604, 'end': 622, 'score': 1.0}]\n",
      "288825                                                                                                                                                                                                                                                                                                                                                                                                                                                [{'entity_group': 'DRUG', 'word': 'Chloroquine', 'start': 11, 'end': 22, 'score': 1.0}, {'entity_group': 'DRUG', 'word': 'CQ', 'start': 24, 'end': 26, 'score': 1.0}, {'entity_group': 'DRUG', 'word': 'hydroxychloroquine', 'start': 32, 'end': 50, 'score': 1.0}, {'entity_group': 'DRUG', 'word': 'HCQ', 'start': 52, 'end': 55, 'score': 1.0}, {'entity_group': 'DRUG', 'word': 'CQ', 'start': 329, 'end': 331, 'score': 1.0}, {'entity_group': 'DRUG', 'word': 'HCQ', 'start': 336, 'end': 339, 'score': 1.0}, {'entity_group': 'DRUG', 'word': 'CQ', 'start': 454, 'end': 456, 'score': 1.0}, {'entity_group': 'DRUG', 'word': 'HCQ', 'start': 461, 'end': 464, 'score': 1.0}, {'entity_group': 'DRUG', 'word': 'CQ', 'start': 608, 'end': 610, 'score': 1.0}, {'entity_group': 'DRUG', 'word': 'HCQ', 'start': 615, 'end': 618, 'score': 1.0}, {'entity_group': 'DRUG', 'word': 'CQ', 'start': 746, 'end': 748, 'score': 1.0}, {'entity_group': 'DRUG', 'word': 'HCQ', 'start': 753, 'end': 756, 'score': 1.0}, {'entity_group': 'DRUG', 'word': 'CQ', 'start': 956, 'end': 958, 'score': 1.0}, {'entity_group': 'DRUG', 'word': 'HCQ', 'start': 963, 'end': 966, 'score': 1.0}, {'entity_group': 'DRUG', 'word': 'CQ', 'start': 1125, 'end': 1127, 'score': 1.0}, {'entity_group': 'DRUG', 'word': 'HCQ', 'start': 1132, 'end': 1135, 'score': 1.0}, {'entity_group': 'DRUG', 'word': 'chloroquine', 'start': 1270, 'end': 1281, 'score': 1.0}, {'entity_group': 'DRUG', 'word': 'hydroxychloroquine', 'start': 1286, 'end': 1304, 'score': 1.0}, {'entity_group': 'DRUG', 'word': 'CQ', 'start': 1457, 'end': 1459, 'score': 1.0}, {'entity_group': 'DRUG', 'word': 'HCQ', 'start': 1464, 'end': 1467, 'score': 1.0}, {'entity_group': 'DRUG', 'word': 'CQ', 'start': 1580, 'end': 1582, 'score': 1.0}, {'entity_group': 'DRUG', 'word': 'HCQ', 'start': 1587, 'end': 1590, 'score': 1.0}, {'entity_group': 'DRUG', 'word': 'CQ', 'start': 2053, 'end': 2055, 'score': 1.0}, {'entity_group': 'DRUG', 'word': 'HCQ', 'start': 2060, 'end': 2063, 'score': 1.0}, {'entity_group': 'DRUG', 'word': 'CQ', 'start': 2537, 'end': 2539, 'score': 1.0}, {'entity_group': 'DRUG', 'word': 'HCQ', 'start': 2544, 'end': 2547, 'score': 1.0}]\n",
      "572210                                                                                                                                                                                                                                                                                                                                                                                                                                                    [{'entity_group': 'DRUG', 'word': 'chloroquine', 'start': 773, 'end': 784, 'score': 1.0}, {'entity_group': 'DRUG', 'word': 'hydroxychloroquine', 'start': 786, 'end': 804, 'score': 1.0}, {'entity_group': 'DRUG', 'word': 'colbicistat', 'start': 837, 'end': 848, 'score': 1.0}, {'entity_group': 'DRUG', 'word': 'raltegravir', 'start': 850, 'end': 861, 'score': 1.0}, {'entity_group': 'DRUG', 'word': 'tocilizumab', 'start': 866, 'end': 877, 'score': 1.0}, {'entity_group': 'DRUG', 'word': 'chloroquine', 'start': 1136, 'end': 1147, 'score': 1.0}, {'entity_group': 'DRUG', 'word': 'hydroxychloroquine', 'start': 1149, 'end': 1167, 'score': 1.0}, {'entity_group': 'DRUG', 'word': 'ritonavir', 'start': 1179, 'end': 1188, 'score': 1.0}, {'entity_group': 'DRUG', 'word': 'darunavir', 'start': 1190, 'end': 1199, 'score': 1.0}, {'entity_group': 'DRUG', 'word': 'colbicistat', 'start': 1200, 'end': 1211, 'score': 1.0}, {'entity_group': 'STRENGTH', 'word': '658', 'start': 1416, 'end': 1419, 'score': 1.0}, {'entity_group': 'FORM', 'word': 'tablets', 'start': 1420, 'end': 1427, 'score': 1.0}, {'entity_group': 'DOSAGE', 'word': '660', 'start': 1479, 'end': 1482, 'score': 1.0}, {'entity_group': 'FORM', 'word': 'tablets', 'start': 1483, 'end': 1490, 'score': 1.0}, {'entity_group': 'DRUG', 'word': 'colbicistat', 'start': 1504, 'end': 1515, 'score': 1.0}, {'entity_group': 'STRENGTH', 'word': '150', 'start': 1536, 'end': 1539, 'score': 1.0}, {'entity_group': 'FORM', 'word': 'tablets', 'start': 1540, 'end': 1547, 'score': 1.0}, {'entity_group': 'DRUG', 'word': 'hydroxychloroquine', 'start': 1551, 'end': 1569, 'score': 1.0}, {'entity_group': 'STRENGTH', 'word': '330', 'start': 1590, 'end': 1593, 'score': 1.0}, {'entity_group': 'FORM', 'word': 'tablets', 'start': 1594, 'end': 1601, 'score': 1.0}, {'entity_group': 'DRUG', 'word': 'chloroquine', 'start': 1605, 'end': 1616, 'score': 1.0}, {'entity_group': 'DRUG', 'word': 'Raltegravir', 'start': 1632, 'end': 1643, 'score': 1.0}, {'entity_group': 'FORM', 'word': 'tablets', 'start': 1644, 'end': 1651, 'score': 1.0}, {'entity_group': 'DRUG', 'word': 'Tocilizumab', 'start': 1704, 'end': 1715, 'score': 1.0}]\n",
      "176893                                                                                                                                                                                                                                                                                                                                                                                                                                                                                                                                                                                                                                                                                                                                                                                                                                                                                                                                                                                                                                                                                                                                                                                                                                                                                                                                                                                                                                                                                                                                                                                                                                                                                                                                                                                                                                                                                                                                                                                                                                                                                                                                                                                                                                                                                                                                                                                                             [{'entity_group': 'DRUG', 'word': 'hydroxychloroquine', 'start': 805, 'end': 823, 'score': 1.0}, {'entity_group': 'DRUG', 'word': 'haloperidol', 'start': 883, 'end': 894, 'score': 1.0}, {'entity_group': 'DRUG', 'word': 'lorazepam', 'start': 899, 'end': 908, 'score': 1.0}]\n",
      "230932                                                                                                                                                                                                                                                                                                                                                                                                                                                                                                                                                                                                                                                                                                                                                                                                                                                                                                                                                                                                                                                                                                                                                                                                                                                                                                                                                                                                                                                                                                                                                                 [{'entity_group': 'DRUG', 'word': 'DMARDs', 'start': 345, 'end': 351, 'score': 1.0}, {'entity_group': 'DRUG', 'word': 'glucocorticoids', 'start': 352, 'end': 367, 'score': 1.0}, {'entity_group': 'DRUG', 'word': 'biologics', 'start': 368, 'end': 377, 'score': 1.0}, {'entity_group': 'DRUG', 'word': 'rituximab', 'start': 475, 'end': 484, 'score': 1.0}, {'entity_group': 'DRUG', 'word': 'sulfasalazine', 'start': 489, 'end': 502, 'score': 1.0}, {'entity_group': 'DRUG', 'word': 'methotrexate', 'start': 1720, 'end': 1732, 'score': 1.0}, {'entity_group': 'DRUG', 'word': 'hydroxychloroquine', 'start': 1754, 'end': 1772, 'score': 1.0}, {'entity_group': 'DRUG', 'word': 'adalimumab', 'start': 1786, 'end': 1796, 'score': 1.0}, {'entity_group': 'DRUG', 'word': 'sulphasalazine', 'start': 2586, 'end': 2600, 'score': 1.0}, {'entity_group': 'DRUG', 'word': 'DMARD', 'start': 2712, 'end': 2717, 'score': 1.0}, {'entity_group': 'DRUG', 'word': 'biologic drugs', 'start': 2856, 'end': 2870, 'score': 1.0}, {'entity_group': 'DRUG', 'word': 'rituximab', 'start': 2884, 'end': 2893, 'score': 1.0}]\n",
      "946823                                                                                                                                                                                                                                                                                                                                                                                                                                                                                                                                                                                                                                                                                                                                                                                                                                                                                                                                                                                                                                                                                                                                                                                                                                                         [{'entity_group': 'DRUG', 'word': 'Antiviral drugs', 'start': 301, 'end': 316, 'score': 1.0}, {'entity_group': 'DRUG', 'word': 'oseltamivir', 'start': 326, 'end': 337, 'score': 1.0}, {'entity_group': 'DRUG', 'word': 'favipiravir', 'start': 339, 'end': 350, 'score': 1.0}, {'entity_group': 'DRUG', 'word': 'umifenovir', 'start': 352, 'end': 362, 'score': 1.0}, {'entity_group': 'DRUG', 'word': 'lopinavir', 'start': 364, 'end': 373, 'score': 1.0}, {'entity_group': 'DRUG', 'word': 'remdesivir', 'start': 375, 'end': 385, 'score': 1.0}, {'entity_group': 'DRUG', 'word': 'hydroxychloroquine', 'start': 387, 'end': 405, 'score': 1.0}, {'entity_group': 'DRUG', 'word': 'chloroquine', 'start': 407, 'end': 418, 'score': 1.0}, {'entity_group': 'DRUG', 'word': 'azithromycin', 'start': 420, 'end': 432, 'score': 1.0}, {'entity_group': 'DRUG', 'word': 'ascorbic acid', 'start': 434, 'end': 447, 'score': 1.0}, {'entity_group': 'DRUG', 'word': 'corticosteroids', 'start': 449, 'end': 464, 'score': 1.0}, {'entity_group': 'DRUG', 'word': 'anti-inflammatory agents', 'start': 594, 'end': 618, 'score': 1.0}, {'entity_group': 'DRUG', 'word': 'anti-viral drugs', 'start': 722, 'end': 738, 'score': 1.0}, {'entity_group': 'DRUG', 'word': 'anti-viral drugs', 'start': 1109, 'end': 1125, 'score': 1.0}, {'entity_group': 'DRUG', 'word': 'anti-Covid drug', 'start': 1204, 'end': 1219, 'score': 1.0}]\n",
      "876938                                                                                                                                                                                                                                                                                                                                                                                                                                                                                                                                                                                                                                                                                                                                                                                                                                                                                                                                                                                                                                                                                                                                                                                                                                                                                                                                                                                                                                                                                                                                                                                                                                                                                                                                                                                                                                                                                                                                                                                                                                                                                                                                                                                                                                                                                                                    [{'entity_group': 'DURATION', 'word': '14-day', 'start': 640, 'end': 646, 'score': 1.0}, {'entity_group': 'DRUG', 'word': 'Ribavirin', 'start': 678, 'end': 687, 'score': 1.0}, {'entity_group': 'DRUG', 'word': 'Azithromycin', 'start': 689, 'end': 701, 'score': 1.0}, {'entity_group': 'DRUG', 'word': 'Hydroxychloroquine', 'start': 707, 'end': 725, 'score': 1.0}]\n",
      "985314                                                                                                                                                                                                                                                                                                                                                                                                                                                                                                                                                                                                                                                                                                                                                                                                                                                                                                                                                                                                                                                                                                                                                                                                                                                                                                                                                                                                                                                                                                                                                                                                                                             [{'entity_group': 'DRUG', 'word': 'hydroxychloroquine', 'start': 233, 'end': 251, 'score': 1.0}, {'entity_group': 'DRUG', 'word': 'HCQ', 'start': 253, 'end': 256, 'score': 1.0}, {'entity_group': 'DRUG', 'word': 'azithromycin', 'start': 261, 'end': 273, 'score': 1.0}, {'entity_group': 'DRUG', 'word': 'AZM', 'start': 275, 'end': 278, 'score': 1.0}, {'entity_group': 'DRUG', 'word': 'HCQ', 'start': 470, 'end': 473, 'score': 1.0}, {'entity_group': 'DRUG', 'word': 'AZM', 'start': 478, 'end': 481, 'score': 1.0}, {'entity_group': 'DRUG', 'word': 'HCQ', 'start': 1046, 'end': 1049, 'score': 1.0}, {'entity_group': 'DRUG', 'word': 'AZM', 'start': 1054, 'end': 1057, 'score': 1.0}, {'entity_group': 'DRUG', 'word': 'HCQ', 'start': 1542, 'end': 1545, 'score': 1.0}, {'entity_group': 'DRUG', 'word': 'AZM', 'start': 1604, 'end': 1607, 'score': 1.0}, {'entity_group': 'DRUG', 'word': 'HCQ', 'start': 1836, 'end': 1839, 'score': 1.0}, {'entity_group': 'DRUG', 'word': 'AZM', 'start': 1844, 'end': 1847, 'score': 1.0}]\n",
      "393879                                                                                                                                                                                                                                                                                                                                                                                                                                                                                                                                                                                                                                                                                                                                                                                                                                                                                                                                                                                                                                                                                                                                                                                                                                                                                                                                                                                                                                                                                                                                                                                                                                                                                                                                                                                                                                                                                                                                                                                                                                                                                                                                                                                                                                                                                                                                                                                                    [{'entity_group': 'DRUG', 'word': 'chloroquine', 'start': 229, 'end': 240, 'score': 1.0}, {'entity_group': 'DRUG', 'word': 'hydroxychloroquine', 'start': 261, 'end': 279, 'score': 1.0}, {'entity_group': 'DRUG', 'word': 'hydroxychloroquine', 'start': 481, 'end': 499, 'score': 1.0}]\n",
      "600678                                                                                                                                                                                                                                                                                                                                                                                                     [{'entity_group': 'DRUG', 'word': 'Hydroxychloroquine', 'start': 12, 'end': 30, 'score': 1.0}, {'entity_group': 'DRUG', 'word': 'HCQ', 'start': 32, 'end': 35, 'score': 1.0}, {'entity_group': 'DRUG', 'word': 'azithromycin', 'start': 41, 'end': 53, 'score': 1.0}, {'entity_group': 'DRUG', 'word': 'AZM', 'start': 55, 'end': 58, 'score': 1.0}, {'entity_group': 'DRUG', 'word': 'antimalarial drugs', 'start': 64, 'end': 82, 'score': 1.0}, {'entity_group': 'DRUG', 'word': 'HCQ', 'start': 320, 'end': 323, 'score': 1.0}, {'entity_group': 'DRUG', 'word': 'desethylhydroxychloroquine', 'start': 341, 'end': 367, 'score': 1.0}, {'entity_group': 'DRUG', 'word': 'AZM', 'start': 414, 'end': 417, 'score': 1.0}, {'entity_group': 'DRUG', 'word': 'HCQ', 'start': 734, 'end': 737, 'score': 1.0}, {'entity_group': 'DRUG', 'word': 'AZM', 'start': 1027, 'end': 1030, 'score': 1.0}, {'entity_group': 'DRUG', 'word': 'BDCQ', 'start': 1199, 'end': 1203, 'score': 1.0}, {'entity_group': 'DRUG', 'word': 'DHCQ', 'start': 1218, 'end': 1222, 'score': 1.0}, {'entity_group': 'DRUG', 'word': 'HCQ', 'start': 1237, 'end': 1240, 'score': 1.0}, {'entity_group': 'DRUG', 'word': 'AZM', 'start': 1258, 'end': 1261, 'score': 1.0}, {'entity_group': 'DRUG', 'word': 'HCQ', 'start': 1345, 'end': 1348, 'score': 1.0}, {'entity_group': 'DRUG', 'word': 'AZM', 'start': 1353, 'end': 1356, 'score': 1.0}, {'entity_group': 'DRUG', 'word': 'DHCQ', 'start': 1374, 'end': 1378, 'score': 1.0}, {'entity_group': 'DRUG', 'word': 'BDCQ', 'start': 1401, 'end': 1405, 'score': 1.0}, {'entity_group': 'DRUG', 'word': 'HCQ', 'start': 1525, 'end': 1528, 'score': 1.0}, {'entity_group': 'DRUG', 'word': 'DHCQ', 'start': 1545, 'end': 1549, 'score': 1.0}, {'entity_group': 'DRUG', 'word': 'BDCQ', 'start': 1566, 'end': 1570, 'score': 1.0}, {'entity_group': 'DRUG', 'word': 'AZM', 'start': 1591, 'end': 1594, 'score': 1.0}, {'entity_group': 'DRUG', 'word': 'HCQ', 'start': 1910, 'end': 1913, 'score': 1.0}, {'entity_group': 'DRUG', 'word': 'DHCQ', 'start': 1915, 'end': 1919, 'score': 1.0}, {'entity_group': 'DRUG', 'word': 'BDCQ', 'start': 1921, 'end': 1925, 'score': 1.0}, {'entity_group': 'DRUG', 'word': 'AZM', 'start': 1931, 'end': 1934, 'score': 1.0}]\n",
      "610389                                                                                                                                                                                                                                                                                                                                                                                                                                                                                                                                                                                                                                                                            [{'entity_group': 'DRUG', 'word': 'Hydroxychloroquine', 'start': 12, 'end': 30, 'score': 1.0}, {'entity_group': 'DRUG', 'word': 'chloroquine', 'start': 34, 'end': 45, 'score': 1.0}, {'entity_group': 'DRUG', 'word': 'macrolide', 'start': 93, 'end': 102, 'score': 1.0}, {'entity_group': 'DRUG', 'word': 'hydroxychloroquine', 'start': 449, 'end': 467, 'score': 1.0}, {'entity_group': 'DRUG', 'word': 'chloroquine', 'start': 471, 'end': 482, 'score': 1.0}, {'entity_group': 'DRUG', 'word': 'macrolide', 'start': 501, 'end': 510, 'score': 1.0}, {'entity_group': 'DRUG', 'word': 'chloroquine', 'start': 859, 'end': 870, 'score': 1.0}, {'entity_group': 'DRUG', 'word': 'chloroquine', 'start': 878, 'end': 889, 'score': 1.0}, {'entity_group': 'DRUG', 'word': 'hydroxychloroquine', 'start': 908, 'end': 926, 'score': 1.0}, {'entity_group': 'DRUG', 'word': 'hydroxychloroquine', 'start': 937, 'end': 955, 'score': 1.0}, {'entity_group': 'DRUG', 'word': 'remdesivir', 'start': 1228, 'end': 1238, 'score': 1.0}, {'entity_group': 'DRUG', 'word': 'chloroquine', 'start': 1671, 'end': 1682, 'score': 1.0}, {'entity_group': 'DRUG', 'word': 'hydroxychloroquine', 'start': 1742, 'end': 1760, 'score': 1.0}, {'entity_group': 'DRUG', 'word': 'hydroxychloroquine', 'start': 2226, 'end': 2244, 'score': 1.0}, {'entity_group': 'DRUG', 'word': 'chloroquine', 'start': 2359, 'end': 2370, 'score': 1.0}, {'entity_group': 'DRUG', 'word': 'chloroquine', 'start': 2404, 'end': 2415, 'score': 1.0}, {'entity_group': 'DRUG', 'word': 'hydroxychloroquine', 'start': 2585, 'end': 2603, 'score': 1.0}, {'entity_group': 'DRUG', 'word': 'chloroquine', 'start': 2696, 'end': 2707, 'score': 1.0}, {'entity_group': 'DRUG', 'word': 'chloroquine', 'start': 2740, 'end': 2751, 'score': 1.0}, {'entity_group': 'DRUG', 'word': 'hydroxychloroquine', 'start': 2962, 'end': 2980, 'score': 1.0}, {'entity_group': 'DRUG', 'word': 'chloroquine', 'start': 2984, 'end': 2995, 'score': 1.0}]\n",
      "356378                                                                                                                                                                                                                                                                                                                                                                                                                                                                                           [{'entity_group': 'DRUG', 'word': 'Azithromycin', 'start': 6, 'end': 18, 'score': 1.0}, {'entity_group': 'DRUG', 'word': 'broad spectrum antibiotic', 'start': 34, 'end': 59, 'score': 1.0}, {'entity_group': 'DRUG', 'word': 'Hydroxychloroquine', 'start': 169, 'end': 187, 'score': 1.0}, {'entity_group': 'DRUG', 'word': 'Azithromycin', 'start': 221, 'end': 233, 'score': 1.0}, {'entity_group': 'DRUG', 'word': 'Rosuvastatin', 'start': 311, 'end': 323, 'score': 1.0}, {'entity_group': 'DRUG', 'word': 'Rosuvastatin', 'start': 485, 'end': 497, 'score': 1.0}, {'entity_group': 'DRUG', 'word': 'Azithromycin', 'start': 506, 'end': 518, 'score': 1.0}, {'entity_group': 'DRUG', 'word': 'Azithromycin', 'start': 650, 'end': 662, 'score': 1.0}, {'entity_group': 'DRUG', 'word': 'Rosuvastatin', 'start': 664, 'end': 676, 'score': 1.0}, {'entity_group': 'DRUG', 'word': 'Azithromycin', 'start': 682, 'end': 694, 'score': 1.0}, {'entity_group': 'DRUG', 'word': 'Rosuvastatin', 'start': 696, 'end': 708, 'score': 1.0}, {'entity_group': 'DRUG', 'word': 'Azithromycin', 'start': 717, 'end': 729, 'score': 1.0}, {'entity_group': 'STRENGTH', 'word': '30 mg/kg/day', 'start': 730, 'end': 742, 'score': 1.0}, {'entity_group': 'DRUG', 'word': 'Rosuvastatin', 'start': 747, 'end': 759, 'score': 1.0}, {'entity_group': 'STRENGTH', 'word': '2 mg/kg/day', 'start': 760, 'end': 771, 'score': 1.0}, {'entity_group': 'DURATION', 'word': 'for two weeks', 'start': 791, 'end': 804, 'score': 1.0}, {'entity_group': 'ROUTE', 'word': 'intragastric tube', 'start': 811, 'end': 828, 'score': 1.0}, {'entity_group': 'DRUG', 'word': 'Rosuvastatin', 'start': 1355, 'end': 1367, 'score': 1.0}, {'entity_group': 'DRUG', 'word': 'Azithromycin', 'start': 1464, 'end': 1476, 'score': 1.0}, {'entity_group': 'DRUG', 'word': 'Azithromycin', 'start': 1507, 'end': 1519, 'score': 1.0}, {'entity_group': 'DRUG', 'word': 'Rosuvastatin', 'start': 1754, 'end': 1766, 'score': 1.0}, {'entity_group': 'DRUG', 'word': 'Rosuvastatin', 'start': 1901, 'end': 1913, 'score': 1.0}, {'entity_group': 'DRUG', 'word': 'Azithromycin', 'start': 1961, 'end': 1973, 'score': 1.0}]\n",
      "837720                                                                                                                                                                                                                                                                                                                                                                                                                                                                                                                                                                                                                                                                                                                                                                                                                                                                                                                                                                                                                                                                                                                                                                                                                                                                                                                                                                                                                                                                                                                                                                                                                                                                                                                                                                                                                                                                                                                                                                                                                                                                                                                                                                                                                                                                                                                                                                                                                                                                                                                                                                                                                                                             {'error': 'Service Unavailable'}\n",
      "488780                                                                                                                                                                                                                                                                                                                                                                                                                                                                                                                                                                                                                                                                                                                                                                                                                                                                                                                                                                                                                                                                                                                                                                                                                                                                                                                                                                                                                                                                                   [{'entity_group': 'DRUG', 'word': 'Ivermectin', 'start': 12, 'end': 22, 'score': 1.0}, {'entity_group': 'DRUG', 'word': 'ivermectin', 'start': 227, 'end': 237, 'score': 1.0}, {'entity_group': 'DRUG', 'word': 'ivermectin', 'start': 502, 'end': 512, 'score': 1.0}, {'entity_group': 'DRUG', 'word': 'ivermectin', 'start': 537, 'end': 547, 'score': 1.0}, {'entity_group': 'DRUG', 'word': 'Fio2', 'start': 920, 'end': 924, 'score': 1.0}, {'entity_group': 'DRUG', 'word': 'ivermectin', 'start': 1145, 'end': 1155, 'score': 1.0}, {'entity_group': 'DRUG', 'word': 'ivermectin', 'start': 1172, 'end': 1182, 'score': 1.0}, {'entity_group': 'DRUG', 'word': 'hydroxychloroquine', 'start': 1242, 'end': 1260, 'score': 1.0}, {'entity_group': 'DRUG', 'word': 'azithromycin', 'start': 1262, 'end': 1274, 'score': 1.0}, {'entity_group': 'DRUG', 'word': 'ivermectin', 'start': 1335, 'end': 1345, 'score': 1.0}, {'entity_group': 'DRUG', 'word': 'ivermectin', 'start': 1439, 'end': 1449, 'score': 1.0}, {'entity_group': 'DRUG', 'word': 'ivermectin', 'start': 1965, 'end': 1975, 'score': 1.0}, {'entity_group': 'DRUG', 'word': 'Ivermectin', 'start': 2166, 'end': 2176, 'score': 1.0}]\n",
      "Name: analysis, dtype: object\n"
     ]
    }
   ],
   "source": [
    "import requests\n",
    "import json\n",
    "import time\n",
    "\n",
    "# Enter your HuggingFace API token\n",
    "API_TOKEN = input(\"Enter your HuggingFace API token: \")\n",
    "\n",
    "API_URL = \"https://api-inference.huggingface.co/models/kormilitzin/en_core_med7_trf\"\n",
    "headers = {\"Authorization\": f\"Bearer {API_TOKEN}\"}\n",
    "\n",
    "df[\"analysis\"] = \"\" \n",
    "\n",
    "\n",
    "def query(payload):\n",
    "    response = requests.post(API_URL, headers=headers, json=payload)\n",
    "    return response.json()\n",
    "\n",
    "for index, row in test_df.iterrows():\n",
    "    text = row['abstract']\n",
    "    time.sleep(10) \n",
    "    output = query(text)\n",
    "    \n",
    "    test_df.at[index, 'analysis'] = output\n",
    "\n",
    "print(test_df['analysis'])"
   ]
  },
  {
   "cell_type": "code",
   "execution_count": 151,
   "metadata": {},
   "outputs": [],
   "source": [
    "#Sample that has a covid value greater than 0\n",
    "test_df = df.sample(n=10000).loc[df['hydroxychloroquine'] > 0]\n"
   ]
  },
  {
   "cell_type": "code",
   "execution_count": 173,
   "metadata": {},
   "outputs": [
    {
     "data": {
      "text/html": [
       "<div>\n",
       "<style scoped>\n",
       "    .dataframe tbody tr th:only-of-type {\n",
       "        vertical-align: middle;\n",
       "    }\n",
       "\n",
       "    .dataframe tbody tr th {\n",
       "        vertical-align: top;\n",
       "    }\n",
       "\n",
       "    .dataframe thead th {\n",
       "        text-align: right;\n",
       "    }\n",
       "</style>\n",
       "<table border=\"1\" class=\"dataframe\">\n",
       "  <thead>\n",
       "    <tr style=\"text-align: right;\">\n",
       "      <th></th>\n",
       "      <th>cord_uid</th>\n",
       "      <th>sha</th>\n",
       "      <th>source_x</th>\n",
       "      <th>title</th>\n",
       "      <th>doi</th>\n",
       "      <th>pmcid</th>\n",
       "      <th>pubmed_id</th>\n",
       "      <th>license</th>\n",
       "      <th>abstract</th>\n",
       "      <th>publish_time</th>\n",
       "      <th>...</th>\n",
       "      <th>favipiravir</th>\n",
       "      <th>methylprednisolone</th>\n",
       "      <th>covid</th>\n",
       "      <th>sars</th>\n",
       "      <th>pneumonia</th>\n",
       "      <th>infection</th>\n",
       "      <th>diabetes</th>\n",
       "      <th>coronavirus</th>\n",
       "      <th>death</th>\n",
       "      <th>analysis</th>\n",
       "    </tr>\n",
       "  </thead>\n",
       "  <tbody>\n",
       "    <tr>\n",
       "      <th>420858</th>\n",
       "      <td>ceh43kdw</td>\n",
       "      <td>NaN</td>\n",
       "      <td>WHO</td>\n",
       "      <td>Drug Repurposing Strategy (DRS): Emerging Appr...</td>\n",
       "      <td>NaN</td>\n",
       "      <td>NaN</td>\n",
       "      <td>NaN</td>\n",
       "      <td>unk</td>\n",
       "      <td>Drug repurposing is also termed as drug reposi...</td>\n",
       "      <td>2021-01-01</td>\n",
       "      <td>...</td>\n",
       "      <td>1</td>\n",
       "      <td>0</td>\n",
       "      <td>4</td>\n",
       "      <td>0</td>\n",
       "      <td>0</td>\n",
       "      <td>1</td>\n",
       "      <td>0</td>\n",
       "      <td>2</td>\n",
       "      <td>0</td>\n",
       "      <td>[{'entity_group': 'DRUG', 'word': 'angiotensin...</td>\n",
       "    </tr>\n",
       "    <tr>\n",
       "      <th>341477</th>\n",
       "      <td>g6irn9lw</td>\n",
       "      <td>NaN</td>\n",
       "      <td>WHO</td>\n",
       "      <td>Azithromycin in COVID-19 Patients: Pharmacolog...</td>\n",
       "      <td>NaN</td>\n",
       "      <td>NaN</td>\n",
       "      <td>NaN</td>\n",
       "      <td>unk</td>\n",
       "      <td>The global COVID-19 pandemic has led to a race...</td>\n",
       "      <td>2020-01-01</td>\n",
       "      <td>...</td>\n",
       "      <td>0</td>\n",
       "      <td>0</td>\n",
       "      <td>5</td>\n",
       "      <td>0</td>\n",
       "      <td>1</td>\n",
       "      <td>0</td>\n",
       "      <td>0</td>\n",
       "      <td>0</td>\n",
       "      <td>0</td>\n",
       "      <td>[{'entity_group': 'DRUG', 'word': 'Azithromyci...</td>\n",
       "    </tr>\n",
       "    <tr>\n",
       "      <th>340233</th>\n",
       "      <td>6fnowwxu</td>\n",
       "      <td>NaN</td>\n",
       "      <td>WHO</td>\n",
       "      <td>Brief Report: Hydroxychloroquine does not indu...</td>\n",
       "      <td>NaN</td>\n",
       "      <td>NaN</td>\n",
       "      <td>NaN</td>\n",
       "      <td>unk</td>\n",
       "      <td>BACKGROUND: Hydroxychloroquine (HCQ) is widely...</td>\n",
       "      <td>2020-01-01</td>\n",
       "      <td>...</td>\n",
       "      <td>0</td>\n",
       "      <td>0</td>\n",
       "      <td>1</td>\n",
       "      <td>0</td>\n",
       "      <td>0</td>\n",
       "      <td>0</td>\n",
       "      <td>0</td>\n",
       "      <td>0</td>\n",
       "      <td>0</td>\n",
       "      <td>[{'entity_group': 'DRUG', 'word': 'Hydroxychlo...</td>\n",
       "    </tr>\n",
       "    <tr>\n",
       "      <th>327631</th>\n",
       "      <td>lm53wsb5</td>\n",
       "      <td>NaN</td>\n",
       "      <td>WHO</td>\n",
       "      <td>COVID-19 pneumonia in patients with hematologi...</td>\n",
       "      <td>NaN</td>\n",
       "      <td>NaN</td>\n",
       "      <td>NaN</td>\n",
       "      <td>unk</td>\n",
       "      <td>Background: Limited data are available for ris...</td>\n",
       "      <td>2020-01-01</td>\n",
       "      <td>...</td>\n",
       "      <td>0</td>\n",
       "      <td>1</td>\n",
       "      <td>3</td>\n",
       "      <td>0</td>\n",
       "      <td>1</td>\n",
       "      <td>0</td>\n",
       "      <td>1</td>\n",
       "      <td>0</td>\n",
       "      <td>0</td>\n",
       "      <td>[{'entity_group': 'DRUG', 'word': 'chemotherap...</td>\n",
       "    </tr>\n",
       "    <tr>\n",
       "      <th>468146</th>\n",
       "      <td>muvuzl11</td>\n",
       "      <td>NaN</td>\n",
       "      <td>WHO</td>\n",
       "      <td>Treatment with hydroxychloroquine, azithromyci...</td>\n",
       "      <td>NaN</td>\n",
       "      <td>NaN</td>\n",
       "      <td>NaN</td>\n",
       "      <td>unk</td>\n",
       "      <td>SIGNIFICANCE: The United States is in an accel...</td>\n",
       "      <td>2020-01-01</td>\n",
       "      <td>...</td>\n",
       "      <td>0</td>\n",
       "      <td>0</td>\n",
       "      <td>5</td>\n",
       "      <td>1</td>\n",
       "      <td>0</td>\n",
       "      <td>0</td>\n",
       "      <td>0</td>\n",
       "      <td>0</td>\n",
       "      <td>0</td>\n",
       "      <td>[{'entity_group': 'DRUG', 'word': 'hydroxychlo...</td>\n",
       "    </tr>\n",
       "  </tbody>\n",
       "</table>\n",
       "<p>5 rows × 38 columns</p>\n",
       "</div>"
      ],
      "text/plain": [
       "        cord_uid  sha source_x  \\\n",
       "420858  ceh43kdw  NaN      WHO   \n",
       "341477  g6irn9lw  NaN      WHO   \n",
       "340233  6fnowwxu  NaN      WHO   \n",
       "327631  lm53wsb5  NaN      WHO   \n",
       "468146  muvuzl11  NaN      WHO   \n",
       "\n",
       "                                                    title  doi pmcid  \\\n",
       "420858  Drug Repurposing Strategy (DRS): Emerging Appr...  NaN   NaN   \n",
       "341477  Azithromycin in COVID-19 Patients: Pharmacolog...  NaN   NaN   \n",
       "340233  Brief Report: Hydroxychloroquine does not indu...  NaN   NaN   \n",
       "327631  COVID-19 pneumonia in patients with hematologi...  NaN   NaN   \n",
       "468146  Treatment with hydroxychloroquine, azithromyci...  NaN   NaN   \n",
       "\n",
       "       pubmed_id license                                           abstract  \\\n",
       "420858       NaN     unk  Drug repurposing is also termed as drug reposi...   \n",
       "341477       NaN     unk  The global COVID-19 pandemic has led to a race...   \n",
       "340233       NaN     unk  BACKGROUND: Hydroxychloroquine (HCQ) is widely...   \n",
       "327631       NaN     unk  Background: Limited data are available for ris...   \n",
       "468146       NaN     unk  SIGNIFICANCE: The United States is in an accel...   \n",
       "\n",
       "       publish_time  ... favipiravir methylprednisolone  covid sars pneumonia  \\\n",
       "420858   2021-01-01  ...           1                  0      4    0         0   \n",
       "341477   2020-01-01  ...           0                  0      5    0         1   \n",
       "340233   2020-01-01  ...           0                  0      1    0         0   \n",
       "327631   2020-01-01  ...           0                  1      3    0         1   \n",
       "468146   2020-01-01  ...           0                  0      5    1         0   \n",
       "\n",
       "       infection diabetes coronavirus  death  \\\n",
       "420858         1        0           2      0   \n",
       "341477         0        0           0      0   \n",
       "340233         0        0           0      0   \n",
       "327631         0        1           0      0   \n",
       "468146         0        0           0      0   \n",
       "\n",
       "                                                 analysis  \n",
       "420858  [{'entity_group': 'DRUG', 'word': 'angiotensin...  \n",
       "341477  [{'entity_group': 'DRUG', 'word': 'Azithromyci...  \n",
       "340233  [{'entity_group': 'DRUG', 'word': 'Hydroxychlo...  \n",
       "327631  [{'entity_group': 'DRUG', 'word': 'chemotherap...  \n",
       "468146  [{'entity_group': 'DRUG', 'word': 'hydroxychlo...  \n",
       "\n",
       "[5 rows x 38 columns]"
      ]
     },
     "execution_count": 173,
     "metadata": {},
     "output_type": "execute_result"
    }
   ],
   "source": [
    "#drop row [1:15]\n",
    "test_df.head()\n"
   ]
  },
  {
   "cell_type": "code",
   "execution_count": 174,
   "metadata": {},
   "outputs": [
    {
     "name": "stdout",
     "output_type": "stream",
     "text": [
      "[[], [], ['high-dose', 'high-dose'], ['0', '5mg/kg'], [], [], [], [], [], [], [], ['400 mg/d'], [], [], [], ['high dose'], [], [], [], [], [], [], [], [], [], [], [], ['400 mg', '100 mg', '400 mg', '400 mg', '200 mg', '100 mg'], [], [], ['658', '660', '150', '330'], [], [], [], [], [], [], [], [], ['30 mg/kg/day', '2 mg/kg/day'], []]\n"
     ]
    }
   ],
   "source": [
    "\n",
    "\n",
    "drugs_strengths = []\n",
    "\n",
    "\n",
    "for entities in test_df['analysis']:\n",
    "    extracted_words = []\n",
    "    for entity in entities:\n",
    "        if entity['entity_group'] in ['STRENGTH', 'DOSAGE']:\n",
    "            extracted_words.append(entity['word'])\n",
    "    drugs_strengths.append(extracted_words)\n",
    "\n",
    "print(drugs_strengths)"
   ]
  }
 ],
 "metadata": {
  "interpreter": {
   "hash": "86193a1ab0ba47eac1c69c1756090baa3b420b3eea7d4aafab8b85f8b312f0c5"
  },
  "kernelspec": {
   "display_name": "Python 3.8.8 64-bit (conda)",
   "name": "python3"
  },
  "language_info": {
   "codemirror_mode": {
    "name": "ipython",
    "version": 3
   },
   "file_extension": ".py",
   "mimetype": "text/x-python",
   "name": "python",
   "nbconvert_exporter": "python",
   "pygments_lexer": "ipython3",
   "version": "3.11.4"
  },
  "orig_nbformat": 4
 },
 "nbformat": 4,
 "nbformat_minor": 2
}
